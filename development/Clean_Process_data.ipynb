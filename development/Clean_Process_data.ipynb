{
 "cells": [
  {
   "cell_type": "code",
   "execution_count": 34,
   "metadata": {
    "collapsed": false
   },
   "outputs": [],
   "source": [
    "import pandas as pd\n",
    "import numpy as np\n",
    "import math\n",
    "import geopandas as gpd\n",
    "from shapely.geometry import Point\n",
    "\n",
    "import sys, os\n",
    "sys.path.append(os.path.abspath(os.path.join(os.path.dirname(\"Clean_Process_data\"), '..', 'functions/data_transforming')))\n",
    "from spatial_analysis import *"
   ]
  },
  {
   "cell_type": "markdown",
   "metadata": {},
   "source": [
    "# Clip zip code shapefile to only SF"
   ]
  },
  {
   "cell_type": "code",
   "execution_count": 35,
   "metadata": {
    "collapsed": false
   },
   "outputs": [],
   "source": [
    "communities = gpd.read_file('../data/raw_data/zip_codes/geo_export_37348335-ac06-4ade-bf6d-453d393d539d.shp')"
   ]
  },
  {
   "cell_type": "code",
   "execution_count": 36,
   "metadata": {
    "collapsed": false
   },
   "outputs": [],
   "source": [
    "communities = communities[communities[\"po_name\"] == \"SAN FRANCISCO\"]\n",
    "communities = communities[communities[\"zip\"] != '94130']\n",
    "communities = communities[communities[\"zip\"] != '94129']\n",
    "communities = communities[communities[\"zip\"] != '94128']"
   ]
  },
  {
   "cell_type": "code",
   "execution_count": 37,
   "metadata": {
    "collapsed": false
   },
   "outputs": [],
   "source": [
    "communities.to_file('../data/clean_data/SF_zip_codes/SF_zip_codes.shp')"
   ]
  },
  {
   "cell_type": "markdown",
   "metadata": {},
   "source": [
    "# Clean/Process parks data"
   ]
  },
  {
   "cell_type": "code",
   "execution_count": 38,
   "metadata": {
    "collapsed": false
   },
   "outputs": [],
   "source": [
    "parks = pd.read_csv('../data/raw_data/parks_data.csv')"
   ]
  },
  {
   "cell_type": "code",
   "execution_count": 39,
   "metadata": {
    "collapsed": false
   },
   "outputs": [],
   "source": [
    "parks = parks.iloc[1:,:]\n",
    "parks = parks.dropna(subset = [\"Location 1\"])"
   ]
  },
  {
   "cell_type": "code",
   "execution_count": 40,
   "metadata": {
    "collapsed": false
   },
   "outputs": [],
   "source": [
    "temp = parks[\"Location 1\"].apply(lambda x: x.split('\\n'))\n",
    "parks[\"address\"] = temp.apply(lambda x: x[0])\n",
    "parks[\"city_state\"] = temp.apply(lambda x: x[1])\n",
    "parks[\"lat_long\"] = temp.apply(lambda x: x[2])\n",
    "del parks[\"Location 1\"]\n",
    "del parks[\"Lat\"]\n",
    "del parks[\"Zipcode\"]"
   ]
  },
  {
   "cell_type": "code",
   "execution_count": 41,
   "metadata": {
    "collapsed": false
   },
   "outputs": [],
   "source": [
    "# Add zip code field to PARKS data using spatial join\n",
    "parks = spatial_join_zipcode(parks, communities)"
   ]
  },
  {
   "cell_type": "code",
   "execution_count": 42,
   "metadata": {
    "collapsed": false
   },
   "outputs": [],
   "source": [
    "parks.to_csv('../data/clean_data/parks.csv', index=False)"
   ]
  },
  {
   "cell_type": "markdown",
   "metadata": {
    "collapsed": false
   },
   "source": [
    "# Clean/Process schools data"
   ]
  },
  {
   "cell_type": "code",
   "execution_count": 43,
   "metadata": {
    "collapsed": false
   },
   "outputs": [],
   "source": [
    "schools = pd.read_csv('../data/raw_data/Schools.csv')"
   ]
  },
  {
   "cell_type": "code",
   "execution_count": 44,
   "metadata": {
    "collapsed": false
   },
   "outputs": [],
   "source": [
    "schools = schools.dropna(subset = [\"Location 1\"])\n",
    "temp = schools[\"Location 1\"].apply(lambda x: x.split('\\n'))\n",
    "schools[\"State\"] = temp.apply(lambda x: x[0])\n",
    "schools[\"lat_long\"] = temp.apply(lambda x: x[1])\n",
    "del schools[\"Location 1\"]\n",
    "del schools[\"State\"]"
   ]
  },
  {
   "cell_type": "code",
   "execution_count": 45,
   "metadata": {
    "collapsed": false
   },
   "outputs": [],
   "source": [
    "# Add zip code field to SCHOOLS data using spatial join\n",
    "schools = spatial_join_zipcode(schools, communities)"
   ]
  },
  {
   "cell_type": "code",
   "execution_count": 46,
   "metadata": {
    "collapsed": true
   },
   "outputs": [],
   "source": [
    "schools.to_csv('../data/clean_data/schools.csv', index=False)"
   ]
  },
  {
   "cell_type": "markdown",
   "metadata": {},
   "source": [
    "# Clean/Process bart stations data"
   ]
  },
  {
   "cell_type": "code",
   "execution_count": 47,
   "metadata": {
    "collapsed": true
   },
   "outputs": [],
   "source": [
    "bart_stations = gpd.read_file('../data/raw_data/bart_stations/BART_Sta_13.shp')"
   ]
  },
  {
   "cell_type": "code",
   "execution_count": 48,
   "metadata": {
    "collapsed": false
   },
   "outputs": [],
   "source": [
    "# Add zip code field to BART STATIONS data using spatial join\n",
    "bart_stations = bart_stations.to_crs({'init': 'epsg:4326'})\n",
    "bart_stations = gpd.sjoin(bart_stations, communities, how=\"inner\", op='intersects')\n",
    "del bart_stations[\"index_right\"]"
   ]
  },
  {
   "cell_type": "code",
   "execution_count": 49,
   "metadata": {
    "collapsed": false
   },
   "outputs": [],
   "source": [
    "bart_stations.to_csv('../data/clean_data/bart_stations.csv', index=False)"
   ]
  },
  {
   "cell_type": "markdown",
   "metadata": {},
   "source": [
    "# Process police department locations data"
   ]
  },
  {
   "cell_type": "code",
   "execution_count": 109,
   "metadata": {
    "collapsed": false
   },
   "outputs": [],
   "source": [
    "SFPD_locations = pd.read_csv('../data/raw_data/Police_Stations__2011_.csv')"
   ]
  },
  {
   "cell_type": "code",
   "execution_count": 113,
   "metadata": {
    "collapsed": false
   },
   "outputs": [],
   "source": [
    "SFPD_locations = SFPD_locations.rename(columns={'Location':'lat_long'})"
   ]
  },
  {
   "cell_type": "code",
   "execution_count": 114,
   "metadata": {
    "collapsed": true
   },
   "outputs": [],
   "source": [
    "# Add zip code field to SFPD LOCATIONS data using spatial join\n",
    "SFPD_locations = spatial_join_zipcode(SFPD_locations, communities)"
   ]
  },
  {
   "cell_type": "code",
   "execution_count": 115,
   "metadata": {
    "collapsed": true
   },
   "outputs": [],
   "source": [
    "SFPD_locations.to_csv('../data/clean_data/Police_Stations.csv', index=False)"
   ]
  },
  {
   "cell_type": "markdown",
   "metadata": {
    "collapsed": false
   },
   "source": [
    "# Process police incident data"
   ]
  },
  {
   "cell_type": "code",
   "execution_count": 62,
   "metadata": {
    "collapsed": false
   },
   "outputs": [],
   "source": [
    "police_incidents = pd.read_csv('../data/raw_data/SFPD_Incidents_4052016.csv')"
   ]
  },
  {
   "cell_type": "code",
   "execution_count": 65,
   "metadata": {
    "collapsed": false
   },
   "outputs": [],
   "source": [
    "police_incidents = police_incidents.rename(columns={'Location':'lat_long'})"
   ]
  },
  {
   "cell_type": "code",
   "execution_count": 66,
   "metadata": {
    "collapsed": true
   },
   "outputs": [],
   "source": [
    "# add zip code field to POLICE INCIDENT data using spatial join\n",
    "police_incidents = spatial_join_zipcode(police_incidents, communities)"
   ]
  },
  {
   "cell_type": "code",
   "execution_count": 69,
   "metadata": {
    "collapsed": false
   },
   "outputs": [],
   "source": [
    "police_incidents.to_csv('../data/clean_data/SFPD_Incidents_4052016.csv', index=False)"
   ]
  },
  {
   "cell_type": "markdown",
   "metadata": {},
   "source": [
    "# Process zillow/citydata"
   ]
  },
  {
   "cell_type": "code",
   "execution_count": 70,
   "metadata": {
    "collapsed": true
   },
   "outputs": [],
   "source": [
    "zillow_citydata = pd.read_csv('../data/raw_data/zillow_citydata.csv')"
   ]
  },
  {
   "cell_type": "code",
   "execution_count": 100,
   "metadata": {
    "collapsed": false
   },
   "outputs": [],
   "source": [
    "zillow_citydata = zillow_citydata.rename(columns={'lontitude':'longitude'})\n",
    "zillow_citydata[\"lat_long\"] = zillow_citydata[[\"latitude\", \"longitude\"]].apply(lambda x: str(tuple(x)), axis=1)"
   ]
  },
  {
   "cell_type": "code",
   "execution_count": 101,
   "metadata": {
    "collapsed": false
   },
   "outputs": [],
   "source": [
    "# add zip code field to ZILLOW/CITYDATA using spatial join\n",
    "zillow_citydata = spatial_join_zipcode(zillow_citydata, communities)\n",
    "del zillow_citydata[\"ZIP\"]\n",
    "del zillow_citydata[\"State\"]\n",
    "del zillow_citydata[\"City\"]"
   ]
  },
  {
   "cell_type": "code",
   "execution_count": 107,
   "metadata": {
    "collapsed": false
   },
   "outputs": [],
   "source": [
    "zillow_citydata.to_csv('../data/clean_data/zillow_citydata.csv', index=False)"
   ]
  },
  {
   "cell_type": "code",
   "execution_count": null,
   "metadata": {
    "collapsed": false
   },
   "outputs": [],
   "source": []
  },
  {
   "cell_type": "code",
   "execution_count": null,
   "metadata": {
    "collapsed": true
   },
   "outputs": [],
   "source": []
  }
 ],
 "metadata": {
  "anaconda-cloud": {},
  "kernelspec": {
   "display_name": "Python [default]",
   "language": "python",
   "name": "python2"
  },
  "language_info": {
   "codemirror_mode": {
    "name": "ipython",
    "version": 2
   },
   "file_extension": ".py",
   "mimetype": "text/x-python",
   "name": "python",
   "nbconvert_exporter": "python",
   "pygments_lexer": "ipython2",
   "version": "2.7.12"
  }
 },
 "nbformat": 4,
 "nbformat_minor": 1
}
