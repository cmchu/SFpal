{
 "cells": [
  {
   "cell_type": "code",
   "execution_count": 4,
   "metadata": {
    "collapsed": false
   },
   "outputs": [],
   "source": [
    "import sys\n",
    "sys.path.append('/Users/linda/SFpal/functions/data transforming/')\n",
    "sys.path.append('/Users/linda/path/')\n",
    "import config_appdev\n",
    "import get_eta\n",
    "import simplejson, urllib"
   ]
  },
  {
   "cell_type": "code",
   "execution_count": 5,
   "metadata": {
    "collapsed": false
   },
   "outputs": [
    {
     "name": "stdout",
     "output_type": "stream",
     "text": [
      "estimate time of arrival in second: 1129\n"
     ]
    }
   ],
   "source": [
    "'''\n",
    "transit requests directions via public transit routes (where available).\n",
    "If you set the mode to transit, you can optionally specify either a departure_time \n",
    "or an arrival_time. If neither time is specified, the departure_time defaults to \n",
    "now (that is, the departure time defaults to the current time). You can also optionally \n",
    "include a transit_mode and/or a transit_routing_preference.\n",
    "'''\n",
    "reload(get_eta)\n",
    "API_KEY= config_appdev.API_KEY\n",
    "orig_coord = '37.784786,-122.388954'\n",
    "dest_coord = '37.777037,-122.450658'\n",
    "mode ='driving'\n",
    "print 'estimate time of arrival in second:',get_eta.get_time_sec(orig_coord,dest_coord,API_KEY,mode)"
   ]
  },
  {
   "cell_type": "code",
   "execution_count": 6,
   "metadata": {
    "collapsed": false
   },
   "outputs": [
    {
     "data": {
      "text/plain": [
       "zip\n",
       "94102    1176.600000\n",
       "94103    1163.600000\n",
       "94104     807.400000\n",
       "94105     516.800000\n",
       "94107     994.571429\n",
       "94108    1245.800000\n",
       "94109    1895.400000\n",
       "94110    1982.800000\n",
       "94111    1051.600000\n",
       "94112    2478.800000\n",
       "94114    1676.800000\n",
       "94115    1834.200000\n",
       "94116    2406.800000\n",
       "94117    1839.200000\n",
       "94118    2589.600000\n",
       "94121    3419.400000\n",
       "94122    2809.800000\n",
       "94123    2826.600000\n",
       "94124    2064.600000\n",
       "94127    2244.400000\n",
       "94131    2213.600000\n",
       "94132    2470.400000\n",
       "94134    3142.400000\n",
       "94158     904.000000\n",
       "Name: mindist, dtype: float64"
      ]
     },
     "execution_count": 6,
     "metadata": {},
     "output_type": "execute_result"
    }
   ],
   "source": [
    "## In this function\n",
    "get_eta.batch_time(orig_coord,API_KEY,is_driving=False)"
   ]
  },
  {
   "cell_type": "code",
   "execution_count": 64,
   "metadata": {
    "collapsed": true
   },
   "outputs": [],
   "source": [
    "\n"
   ]
  }
 ],
 "metadata": {
  "anaconda-cloud": {},
  "kernelspec": {
   "display_name": "Python [conda root]",
   "language": "python",
   "name": "conda-root-py"
  },
  "language_info": {
   "codemirror_mode": {
    "name": "ipython",
    "version": 2
   },
   "file_extension": ".py",
   "mimetype": "text/x-python",
   "name": "python",
   "nbconvert_exporter": "python",
   "pygments_lexer": "ipython2",
   "version": "2.7.12"
  }
 },
 "nbformat": 4,
 "nbformat_minor": 1
}
