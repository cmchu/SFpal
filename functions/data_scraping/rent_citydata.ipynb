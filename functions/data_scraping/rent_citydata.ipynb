{
 "cells": [
  {
   "cell_type": "code",
   "execution_count": 198,
   "metadata": {
    "collapsed": true
   },
   "outputs": [],
   "source": [
    "from bs4 import BeautifulSoup\n",
    "import urllib2\n",
    "import sys\n",
    "import csv\n",
    "import untangle\n",
    "import re\n",
    "import pandas as pd\n",
    "sys.argv[1] = 'YOUR ZILLOW API KEY' "
   ]
  },
  {
   "cell_type": "code",
   "execution_count": 199,
   "metadata": {
    "collapsed": true
   },
   "outputs": [],
   "source": [
    "# Transfer list of list to csv file to save it\n",
    "'''\n",
    "Take list of list as input\n",
    "Generate csv file and save\n",
    "'''\n",
    "\n",
    "def listToCsv(putListHere): #list is a list of lists [[],[],[],[]]\n",
    "    with open(\"zillow_citydata-1.csv\", \"wb\") as data:\n",
    "        writer = csv.writer(data)\n",
    "        writer.writerows(putListHere)"
   ]
  },
  {
   "cell_type": "code",
   "execution_count": 200,
   "metadata": {
    "collapsed": true
   },
   "outputs": [],
   "source": [
    "# Use zillow API to get zip code list according to the inpute city/state\n",
    "'''\n",
    "Input city/state\n",
    "returl a zip code list\n",
    "'''\n",
    "\n",
    "# KEY is Zillow key: X1-ZWz19khtiopr0r_4n5nu, X1-ZWz19kgq22gnij_5f91a\n",
    "def GetZip(city, state, KEY = sys.argv[1]): #given a city and state, returns a list of zip codes from API GetRegionChildren\n",
    "    ZipList = []\n",
    "    # Find all zipcode in Seattle\n",
    "    QuoteURL = \"http://www.zillow.com/webservice/GetRegionChildren.htm?zws-id=%s&state=%s&city=%s&childtype=zipcode\"\n",
    "\n",
    "    city = city.replace(' ', '%20')\n",
    "    state = state.replace(' ', '%20')\n",
    "    URL = QuoteURL % (KEY, state, city)\n",
    "    response = urllib2.urlopen(URL)\n",
    "    xmldata = response.read()  # Seattle read all data\n",
    "\n",
    "    # Store the zip code in the zipcodelist\n",
    "    data = untangle.parse(xmldata)\n",
    "\n",
    "    for zipcode in data.RegionChildren_regionchildren.response.list.region:\n",
    "        ZipList.append(zipcode.name.cdata)\n",
    "    return ZipList"
   ]
  },
  {
   "cell_type": "code",
   "execution_count": 201,
   "metadata": {
    "collapsed": true
   },
   "outputs": [],
   "source": [
    "# Get property Id and property detail (square footage)\n",
    "'''\n",
    "getZPID: get property ID (scrape data from searching result of zillow)\n",
    "getPropertyData: get number of square foot information for particular property\n",
    "'''\n",
    "\n",
    "def getZPID(property): # Get Property ID given an html and store in a list\n",
    "    if property.find('a') is None: # if a property has no id\n",
    "        return 0\n",
    "    else:\n",
    "        zpid = property.find('a')['data-fm-zpid']\n",
    "        return zpid\n",
    "\n",
    "def getPropertyData(property): # Given the property, get the bath, bed and sqft info\n",
    "    detail = [x.strip() for x in property.text.split(u'·')]\n",
    "    for item in detail:\n",
    "        if item == 'studio': item = 0\n",
    "    detail = [re.sub(\"\\D\", \"\", x) for x in detail]  # remove char from list, we need number only\n",
    "    position = [len(detail[0]), len(detail[1]), len(detail[2])].index(max(len(detail[0]), len(detail[1]), len(detail[2])))\n",
    "    if len(detail[position]) > 2:\n",
    "        return detail[position]\n",
    "    else:\n",
    "        return None\n",
    "    #return detail[0], detail[1], detail[2], detail[position]"
   ]
  },
  {
   "cell_type": "code",
   "execution_count": 202,
   "metadata": {
    "collapsed": true
   },
   "outputs": [],
   "source": [
    "# Use Zillow API to get property estimated price and rent\n",
    "'''\n",
    "getRentPrice: get zillow estimated rent and price from API\n",
    "getListPrice: get zillow listed price from API\n",
    "'''\n",
    "\n",
    "def getRentPrice(zpid, KEY = sys.argv[1]): # Giving a property ID, return the price and rent\n",
    "    QuoteURL = \"http://www.zillow.com/webservice/GetZestimate.htm?zws-id=%s&zpid=%s&rentzestimate=true\"\n",
    "    URL = QuoteURL % (KEY, zpid)\n",
    "    response = urllib2.urlopen(URL)\n",
    "    xmldata = response.read()  # Seattle read all data\n",
    "\n",
    "    # Untangle and get the rent/price for each property\n",
    "    data = untangle.parse(xmldata)\n",
    "    try:\n",
    "        zestimateRent = data.Zestimate_zestimate.response.rentzestimate.amount.cdata\n",
    "        zestimatePrice = data.Zestimate_zestimate.response.zestimate.amount.cdata\n",
    "    except:\n",
    "        zestimatePrice = \"\"\n",
    "        zestimateRent = \"\"\n",
    "    return zestimatePrice, zestimateRent\n",
    "\n",
    "def getListPrice(property): # get property price\n",
    "    if property:\n",
    "        price = re.sub(\"\\D\", \"\", property.text)\n",
    "    else:\n",
    "        price = ''\n",
    "    return price"
   ]
  },
  {
   "cell_type": "code",
   "execution_count": 203,
   "metadata": {
    "collapsed": true
   },
   "outputs": [],
   "source": [
    "# From http://www.city-data.com/, get each zip code information\n",
    "'''\n",
    "input: zip code number\n",
    "output: list of data\n",
    "1. income: Estimated median household income in 2015\n",
    "2. prate: Residents with income below the poverty level in 2015\n",
    "3. age: Median resident age:\n",
    "4. edd: Bachelor's degree or higher\n",
    "5. col: Mar. 2016 cost of living index in this zip code\n",
    "'''\n",
    "\n",
    "def cdScrape(zipCode):\n",
    "    myurl = urllib2.urlopen(\"http://www.city-data.com/zips/%s.html\" % (zipCode))\n",
    "    whole = BeautifulSoup(myurl, \"html.parser\")\n",
    "    html_text = whole.get_text(' ', strip=False)\n",
    "    povrate = re.search('(?<=poverty level in 2015:  \\n This zip code: )[\\d\\.]+', html_text)\n",
    "    mhincome = re.search('(?<=income in 2015:  This zip code: \\$)[\\d,]{3,}', html_text)\n",
    "    ageraw = re.search('(?<=resident age: This zip code: )[\\d\\.]+', html_text)\n",
    "    ed = re.search(\"(?<=Bachelor's degree or higher:  )[\\d\\.]+\", html_text)\n",
    "    costOfLiving = re.search(\"(?<=living index in zip code [\\d]{5}:  )[\\d\\.]+\", html_text)\n",
    "    metrics = []\n",
    "    if mhincome:\n",
    "        income = mhincome.group(0).replace(',', '')\n",
    "    else:\n",
    "        income = ''\n",
    "    if povrate:\n",
    "        prate = povrate.group(0)\n",
    "    else:\n",
    "        prate = ''\n",
    "    if ageraw:\n",
    "        age = ageraw.group(0)\n",
    "    else:\n",
    "        age = ''\n",
    "    if ed:\n",
    "        edd = ed.group(0)\n",
    "    else:\n",
    "        edd = ''\n",
    "    if costOfLiving:\n",
    "        col = costOfLiving.group(0)\n",
    "    else:\n",
    "        col = ''\n",
    "    return income, prate, edd, col, age"
   ]
  },
  {
   "cell_type": "code",
   "execution_count": 204,
   "metadata": {
    "collapsed": true
   },
   "outputs": [],
   "source": [
    "# Combine functions above, scrape data from Zillow and city data\n",
    "'''\n",
    "input: zip code number, city and state\n",
    "output: list of data ['zillow ID', 'lat', 'lon', 'sqft', 'price', 'zillow estimated price', 'zillow estimated rent', 'income', 'property', 'degree', 'cost of living']\n",
    "Flip page according to the number of result, and get all property data from Zillow\n",
    "Get city data from citydata.com\n",
    "'''\n",
    "\n",
    "def HouseGrabber(zip, cityyy, stateee):  #given a zip, returns house stuff\n",
    "    URL = \"http://www.zillow.com/homes/for_sale/94105/house,condo,apartment_duplex,mobile,townhouse_type/1_rs/1_fr/\"\n",
    "    req = urllib2.Request(URL, headers={'User-Agent': 'Resistance Ha'})\n",
    "    response = urllib2.urlopen(req)\n",
    "    html = BeautifulSoup(response, \"html.parser\")\n",
    "\n",
    "    if html.find_all('h3', {'class': 'zsg-content_collapsed'}):\n",
    "        pass\n",
    "    else:\n",
    "        numResult = html.findAll('meta')[2].attrs[u'content'].split(\" \")[2]\n",
    "\n",
    "    if numResult > 500:\n",
    "        page = range(20)\n",
    "    else:\n",
    "        page = range(int(numResult) / 25)\n",
    "\n",
    "    ###### DELETE AFTER TESTING #######\n",
    "    #page = range(1)\n",
    "\n",
    "    zipdetail = []\n",
    "    for i in page:\n",
    "        URL = \"http://www.zillow.com/homes/for_sale/%s/house,condo,apartment_duplex,mobile,townhouse_type/%s_p/1_rs/1_fr/\" % (zip, i)\n",
    "        req = urllib2.Request(URL, headers={'User-Agent': 'Resistance Ha'})\n",
    "        response = urllib2.urlopen(req)\n",
    "        html = BeautifulSoup(response, \"html.parser\")\n",
    "\n",
    "        if html.find_all('h3',{'class':'zsg-content_collapsed'}):       #some ZIPs don't exist, if you search one on zillow it gives \"nearby\" homes\n",
    "            pass                                                        #we DON'T want this, therefore if there are no homes it will fail\n",
    "        else:\n",
    "            #tempvar1 = citydata()\n",
    "            #tempvar2 = data2()\n",
    "            income, prate, edd, col, age = cdScrape(zip)\n",
    "\n",
    "            for item in html.find_all(class_=\"zsg-photo-card-content zsg-aspect-ratio-content\"):\n",
    "                if item.find(class_=\"zsg-photo-card-actions\") is not None:\n",
    "                    zpid = getZPID(item.find(class_=\"zsg-photo-card-actions\"))\n",
    "                    if zpid == 0:\n",
    "                        continue\n",
    "                    sqft = getPropertyData(item.find(class_=\"zsg-photo-card-info\"))\n",
    "                    zprice, zrent = getRentPrice(zpid)\n",
    "                    price = getListPrice (item.find(class_=\"zsg-photo-card-price\"))\n",
    "                    lat = item.findAll('meta')[0].attrs[u'content']\n",
    "                    lon = item.findAll('meta')[1].attrs[u'content']\n",
    "\n",
    "                    zipdetail.append((cityyy, stateee, zip, zpid, lat, lon, sqft, price, zprice, zrent, income, prate, edd, col, age))\n",
    "\n",
    "    return zipdetail"
   ]
  },
  {
   "cell_type": "code",
   "execution_count": 205,
   "metadata": {
    "collapsed": false
   },
   "outputs": [],
   "source": [
    "# Get all properties data \n",
    "'''\n",
    "Get Zip code list and return fulllist of all properties\n",
    "Save the result(list of list) to csv file\n",
    "'''\n",
    "\n",
    "fulllist = [['City', 'State', 'ZIP', 'ZillowID','latitude', 'lontitude', 'sqft','Price', 'ZPrice', 'ZRent', 'Income', 'Poverty','Degree', 'CostofLiving', 'Age']]    #citylist = getCitylist()\n",
    "#ziplist = GetZip('San Francisco', 'CA')\n",
    "ziplist = ['94130', '94133', '94129', '94123', '94111', '94108', '94105', '94104', '94103', '94114', '94107', '94131', '94116', '94124', '94127', '94132', '94134', '94128']\n",
    "for zip in ziplist[1:3]:\n",
    "    fulllist.extend(HouseGrabber(zip, 'San Francisco', 'CA'))"
   ]
  },
  {
   "cell_type": "code",
   "execution_count": 206,
   "metadata": {
    "collapsed": false
   },
   "outputs": [],
   "source": [
    "listToCsv(fulllist)"
   ]
  },
  {
   "cell_type": "code",
   "execution_count": 207,
   "metadata": {
    "collapsed": false
   },
   "outputs": [],
   "source": [
    "# Get average rent, price per zipcode\n",
    "'''\n",
    "Transfer list of list to panda dataframe and aggregate by zip code to get average estimated price/rent\n",
    "Average data of following list:\n",
    "1. 'Price': listed property price\n",
    "2. 'ZPrice': estimated zillow price\n",
    "3. 'ZRent': zillow estimated rent\n",
    "4. 'RentSqft': rent per square footage\n",
    "5. 'Income': average Estimated median household income in 2015 per zip code\n",
    "6. 'Poverty': average percentage of residents with income below the poverty level in 2015\n",
    "7. 'Degree': average percentage of Bachelor's degree or higher\n",
    "8. 'CostofLiving': average of Mar. 2016 cost of living index per zip code\n",
    "'''\n",
    "\n",
    "headers = fulllist.pop(0)\n",
    "df = pd.DataFrame(fulllist, columns=headers)\n",
    "for c in ['sqft','Price', 'ZPrice', 'ZRent', 'Income', 'Poverty','Degree', 'CostofLiving', 'Age']:\n",
    "    df[c] = pd.to_numeric(df[c])\n",
    "df['RentSqft'] = df['ZRent']/df['sqft']\n",
    "dfgroup = df.groupby(['City', 'State', 'ZIP'], axis=0)['Price', 'ZPrice', 'ZRent', 'RentSqft','Income', 'Poverty','Degree', 'CostofLiving', 'Age'].mean()\n",
    "\n",
    "dfgroup.to_csv('zillow_citydata_condensed-1.csv')"
   ]
  },
  {
   "cell_type": "code",
   "execution_count": null,
   "metadata": {
    "collapsed": true
   },
   "outputs": [],
   "source": []
  }
 ],
 "metadata": {
  "anaconda-cloud": {},
  "kernelspec": {
   "display_name": "Python 2",
   "language": "python",
   "name": "python2"
  },
  "language_info": {
   "codemirror_mode": {
    "name": "ipython",
    "version": 2
   },
   "file_extension": ".py",
   "mimetype": "text/x-python",
   "name": "python",
   "nbconvert_exporter": "python",
   "pygments_lexer": "ipython2",
   "version": "2.7.12"
  }
 },
 "nbformat": 4,
 "nbformat_minor": 1
}
