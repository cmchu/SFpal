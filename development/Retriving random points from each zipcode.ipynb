{
 "cells": [
  {
   "cell_type": "code",
   "execution_count": 1,
   "metadata": {
    "collapsed": false
   },
   "outputs": [],
   "source": [
    "import pandas as pd\n",
    "import numpy as np\n",
    "import math\n",
    "from shapely.geometry import Polygon, Point\n",
    "import shapefile\n",
    "import sys, os\n",
    "sys.path.append(os.path.abspath(os.path.join(os.path.dirname(\"Clean_Process_data\"), '..', 'functions/data_transforming')))\n"
   ]
  },
  {
   "cell_type": "code",
   "execution_count": 2,
   "metadata": {
    "collapsed": true
   },
   "outputs": [],
   "source": [
    "reader= shapefile.Reader('../data/raw_data/zip_codes/geo_export_37348335-ac06-4ade-bf6d-453d393d539d.shp')"
   ]
  },
  {
   "cell_type": "code",
   "execution_count": 3,
   "metadata": {
    "collapsed": false
   },
   "outputs": [
    {
     "name": "stdout",
     "output_type": "stream",
     "text": [
      "{'po_name': ['C', 254, 0], 'state': ['C', 254, 0], 'length': ['N', 33, 31], 'zip': ['C', 254, 0], 'area': ['N', 33, 31]}\n"
     ]
    }
   ],
   "source": [
    "print dict((d[0],d[1:]) for d in reader.fields[1:])"
   ]
  },
  {
   "cell_type": "code",
   "execution_count": 4,
   "metadata": {
    "collapsed": false
   },
   "outputs": [
    {
     "name": "stdout",
     "output_type": "stream",
     "text": [
      "error\n",
      "error\n",
      "error\n",
      "error\n",
      "error\n",
      "error\n",
      "error\n",
      "error\n",
      "error\n"
     ]
    }
   ],
   "source": [
    "df = pd.DataFrame(columns=['zip','shape'])\n",
    "fields = [field[0] for field in reader.fields[1:]]\n",
    "for i,feature in enumerate(reader.shapeRecords()):\n",
    "    geom = feature.shape.__geo_interface__\n",
    "    atr = dict(zip(fields, feature.record))\n",
    "    try:\n",
    "        result = pd.DataFrame({'zip':atr['zip'],'shape':Polygon(list(geom['coordinates'][0]))},index=[i])\n",
    "        df = df.append(result)\n",
    "    except:\n",
    "        print'error'"
   ]
  },
  {
   "cell_type": "code",
   "execution_count": 5,
   "metadata": {
    "collapsed": false
   },
   "outputs": [],
   "source": [
    "df = df[df[\"zip\"] != '94130']\n",
    "df = df[df[\"zip\"] != '94129']\n",
    "df = df[df[\"zip\"] != '94128']\n",
    "df = df[df[\"zip\"].isin([\n",
    "            '94102', '94103', '94104', '94105','94107',\n",
    "  '94108', '94109', '94110', '94111', '94112',\n",
    "  '94114', '94115','94116', '94117', '94118',\n",
    "  '94121','94122', '94123', '94124',  '94127',\n",
    "  '94131', '94132', '94133', '94134', '94158'])]\n",
    "\n",
    "##missing 94107 and 94158"
   ]
  },
  {
   "cell_type": "code",
   "execution_count": 6,
   "metadata": {
    "collapsed": false
   },
   "outputs": [],
   "source": [
    "import random\n",
    "\n",
    "def get_random_point_in_polygon(poly):\n",
    "    a = []\n",
    "    (minx, miny, maxx, maxy) = poly.bounds\n",
    "    ct=0\n",
    "    while ct <5:\n",
    "        p = Point(random.uniform(minx, maxx), random.uniform(miny, maxy))\n",
    "        if poly.contains(p):\n",
    "            a.append(p)\n",
    "            ct = ct+1\n",
    "    return a\n",
    "\n"
   ]
  },
  {
   "cell_type": "code",
   "execution_count": 7,
   "metadata": {
    "collapsed": false
   },
   "outputs": [],
   "source": [
    "## every zipcode get 10 random points\n",
    "zipcode= []\n",
    "shape = []\n",
    "for i, row in df.iterrows():\n",
    "    shape.append(get_random_point_in_polygon(row['shape']))\n",
    "    zipcode.append(row['zip'])"
   ]
  },
  {
   "cell_type": "code",
   "execution_count": 8,
   "metadata": {
    "collapsed": false
   },
   "outputs": [
    {
     "name": "stdout",
     "output_type": "stream",
     "text": [
      "94123\n",
      "94109\n",
      "94111\n",
      "94108\n",
      "94115\n",
      "94105\n",
      "94104\n",
      "94118\n",
      "94121\n",
      "94102\n",
      "94103\n",
      "94117\n",
      "94122\n",
      "94114\n",
      "94110\n",
      "94131\n",
      "94116\n",
      "94124\n",
      "94127\n",
      "94132\n",
      "94112\n",
      "94134\n"
     ]
    }
   ],
   "source": [
    "w = shapefile.Writer(shapefile.POINT)\n",
    "w.autoBalance = 1 #ensures gemoetry and attributes match\n",
    "w.field('X','F',10,8)\n",
    "w.field('Y','F',10,8)\n",
    "w.field('ID','N')\n",
    "\n",
    "for i,shapes in enumerate(shape):\n",
    "    print zipcode[i]\n",
    "    for s in shapes:   \n",
    "        a =list(s.coords)\n",
    "        w.point(a[0][1],a[0][0]) #write the geometry\n",
    "        w.record(a[0][1],a[0][0],int(zipcode[i])) #write the attributes\n",
    "\n",
    "#Save shapefile\n",
    "#w.save('point')\n",
    "\n",
    "\n"
   ]
  },
  {
   "cell_type": "code",
   "execution_count": null,
   "metadata": {
    "collapsed": true
   },
   "outputs": [],
   "source": []
  },
  {
   "cell_type": "code",
   "execution_count": 9,
   "metadata": {
    "collapsed": true
   },
   "outputs": [],
   "source": [
    "##94158\n",
    "code158 = [(37.768920, -122.388867),(37.774823, -122.394446),(37.771812, -122.399453),(37.769287, -122.395749),(37.765080, -122.389076)]\n",
    "for s in code158:\n",
    "\n",
    "    w.point(s[0],s[1]) #write the geometry\n",
    "    w.record(s[0],s[1],94158) #write the attributes\n",
    "\n"
   ]
  },
  {
   "cell_type": "code",
   "execution_count": 10,
   "metadata": {
    "collapsed": false
   },
   "outputs": [],
   "source": [
    "##94107\n",
    "code107 = [(37.779797, -122.396510),(37.775523, -122.399170),(37.780746, -122.401488),(37.784545, -122.395308),(37.761651, -122.397715),(37.759870, -122.400224),(37.753945, -122.389292)]\n",
    "for s in code107:\n",
    "    w.point(s[0],s[1]) #write the geometry\n",
    "    w.record(s[0],s[1],94107) #write the attributes\n"
   ]
  },
  {
   "cell_type": "code",
   "execution_count": 11,
   "metadata": {
    "collapsed": true
   },
   "outputs": [],
   "source": [
    "##94133 \n",
    "code133= [(37.804209, -122.413568),(37.802310, -122.408419),(37.807125, -122.412109),(37.799665, -122.404814),(37.795867, -122.413225)]\n",
    "for s in code133:\n",
    "    w.point(s[0],s[1]) #write the geometry\n",
    "    w.record(s[0],s[1],94133) #write the attributes\n"
   ]
  },
  {
   "cell_type": "code",
   "execution_count": 12,
   "metadata": {
    "collapsed": true
   },
   "outputs": [],
   "source": [
    "w.save('point')"
   ]
  },
  {
   "cell_type": "code",
   "execution_count": null,
   "metadata": {
    "collapsed": true
   },
   "outputs": [],
   "source": []
  }
 ],
 "metadata": {
  "anaconda-cloud": {},
  "kernelspec": {
   "display_name": "Python [conda root]",
   "language": "python",
   "name": "conda-root-py"
  },
  "language_info": {
   "codemirror_mode": {
    "name": "ipython",
    "version": 2
   },
   "file_extension": ".py",
   "mimetype": "text/x-python",
   "name": "python",
   "nbconvert_exporter": "python",
   "pygments_lexer": "ipython2",
   "version": "2.7.12"
  }
 },
 "nbformat": 4,
 "nbformat_minor": 1
}
