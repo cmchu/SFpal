{
 "cells": [
  {
   "cell_type": "code",
   "execution_count": 64,
   "metadata": {
    "collapsed": false
   },
   "outputs": [],
   "source": [
    "import pandas as pd\n",
    "import numpy as np\n",
    "import math\n",
    "import geopandas as gpd\n",
    "from shapely.geometry import Point\n",
    "\n",
    "import sys, os\n",
    "sys.path.append(os.path.abspath(os.path.join(os.path.dirname(\"Clean_Process_data\"), '..', 'functions/data_transforming')))\n",
    "from spatial_analysis import *\n",
    "\n",
    "import warnings\n",
    "warnings.filterwarnings('ignore')"
   ]
  },
  {
   "cell_type": "markdown",
   "metadata": {},
   "source": [
    "# Clip zip code shapefile to only SF"
   ]
  },
  {
   "cell_type": "code",
   "execution_count": 3,
   "metadata": {
    "collapsed": false
   },
   "outputs": [],
   "source": [
    "communities = gpd.read_file('../data/raw_data/zip_codes/geo_export_37348335-ac06-4ade-bf6d-453d393d539d.shp')"
   ]
  },
  {
   "cell_type": "code",
   "execution_count": 4,
   "metadata": {
    "collapsed": false
   },
   "outputs": [],
   "source": [
    "communities = communities[communities[\"po_name\"] == \"SAN FRANCISCO\"]\n",
    "communities = communities[communities[\"zip\"] != '94130']\n",
    "communities = communities[communities[\"zip\"] != '94129']\n",
    "communities = communities[communities[\"zip\"] != '94128']"
   ]
  },
  {
   "cell_type": "code",
   "execution_count": 5,
   "metadata": {
    "collapsed": false
   },
   "outputs": [],
   "source": [
    "communities.to_file('../data/clean_data/SF_zip_codes/SF_zip_codes.shp')"
   ]
  },
  {
   "cell_type": "markdown",
   "metadata": {},
   "source": [
    "# Clean/Process parks data"
   ]
  },
  {
   "cell_type": "code",
   "execution_count": 38,
   "metadata": {
    "collapsed": false
   },
   "outputs": [],
   "source": [
    "parks = pd.read_csv('../data/raw_data/parks_data.csv')"
   ]
  },
  {
   "cell_type": "code",
   "execution_count": 39,
   "metadata": {
    "collapsed": false
   },
   "outputs": [],
   "source": [
    "parks = parks.iloc[1:,:]\n",
    "parks = parks.dropna(subset = [\"Location 1\"])"
   ]
  },
  {
   "cell_type": "code",
   "execution_count": 40,
   "metadata": {
    "collapsed": false
   },
   "outputs": [],
   "source": [
    "temp = parks[\"Location 1\"].apply(lambda x: x.split('\\n'))\n",
    "parks[\"address\"] = temp.apply(lambda x: x[0])\n",
    "parks[\"city_state\"] = temp.apply(lambda x: x[1])\n",
    "parks[\"lat_long\"] = temp.apply(lambda x: x[2])\n",
    "del parks[\"Location 1\"]\n",
    "del parks[\"Lat\"]\n",
    "del parks[\"Zipcode\"]"
   ]
  },
  {
   "cell_type": "code",
   "execution_count": 41,
   "metadata": {
    "collapsed": false
   },
   "outputs": [],
   "source": [
    "# Add zip code field to PARKS data using spatial join\n",
    "parks = spatial_join_zipcode(parks, communities)"
   ]
  },
  {
   "cell_type": "code",
   "execution_count": 42,
   "metadata": {
    "collapsed": false
   },
   "outputs": [],
   "source": [
    "parks.to_csv('../data/clean_data/parks.csv', index=False)"
   ]
  },
  {
   "cell_type": "markdown",
   "metadata": {
    "collapsed": false
   },
   "source": [
    "# Clean/Process schools data"
   ]
  },
  {
   "cell_type": "code",
   "execution_count": 43,
   "metadata": {
    "collapsed": false
   },
   "outputs": [],
   "source": [
    "schools = pd.read_csv('../data/raw_data/Schools.csv')"
   ]
  },
  {
   "cell_type": "code",
   "execution_count": 44,
   "metadata": {
    "collapsed": false
   },
   "outputs": [],
   "source": [
    "schools = schools.dropna(subset = [\"Location 1\"])\n",
    "temp = schools[\"Location 1\"].apply(lambda x: x.split('\\n'))\n",
    "schools[\"State\"] = temp.apply(lambda x: x[0])\n",
    "schools[\"lat_long\"] = temp.apply(lambda x: x[1])\n",
    "del schools[\"Location 1\"]\n",
    "del schools[\"State\"]"
   ]
  },
  {
   "cell_type": "code",
   "execution_count": 45,
   "metadata": {
    "collapsed": false
   },
   "outputs": [],
   "source": [
    "# Add zip code field to SCHOOLS data using spatial join\n",
    "schools = spatial_join_zipcode(schools, communities)"
   ]
  },
  {
   "cell_type": "code",
   "execution_count": 46,
   "metadata": {
    "collapsed": true
   },
   "outputs": [],
   "source": [
    "schools.to_csv('../data/clean_data/schools.csv', index=False)"
   ]
  },
  {
   "cell_type": "markdown",
   "metadata": {},
   "source": [
    "# Clean/Process bart stations data"
   ]
  },
  {
   "cell_type": "code",
   "execution_count": 47,
   "metadata": {
    "collapsed": true
   },
   "outputs": [],
   "source": [
    "bart_stations = gpd.read_file('../data/raw_data/bart_stations/BART_Sta_13.shp')"
   ]
  },
  {
   "cell_type": "code",
   "execution_count": 48,
   "metadata": {
    "collapsed": false
   },
   "outputs": [],
   "source": [
    "# Add zip code field to BART STATIONS data using spatial join\n",
    "bart_stations = bart_stations.to_crs({'init': 'epsg:4326'})\n",
    "bart_stations = gpd.sjoin(bart_stations, communities, how=\"inner\", op='intersects')\n",
    "del bart_stations[\"index_right\"]"
   ]
  },
  {
   "cell_type": "code",
   "execution_count": 49,
   "metadata": {
    "collapsed": false
   },
   "outputs": [],
   "source": [
    "bart_stations.to_csv('../data/clean_data/bart_stations.csv', index=False)"
   ]
  },
  {
   "cell_type": "markdown",
   "metadata": {},
   "source": [
    "# Process police department locations data"
   ]
  },
  {
   "cell_type": "code",
   "execution_count": 109,
   "metadata": {
    "collapsed": false
   },
   "outputs": [],
   "source": [
    "SFPD_locations = pd.read_csv('../data/raw_data/Police_Stations__2011_.csv')"
   ]
  },
  {
   "cell_type": "code",
   "execution_count": 113,
   "metadata": {
    "collapsed": false
   },
   "outputs": [],
   "source": [
    "SFPD_locations = SFPD_locations.rename(columns={'Location':'lat_long'})"
   ]
  },
  {
   "cell_type": "code",
   "execution_count": 114,
   "metadata": {
    "collapsed": true
   },
   "outputs": [],
   "source": [
    "# Add zip code field to SFPD LOCATIONS data using spatial join\n",
    "SFPD_locations = spatial_join_zipcode(SFPD_locations, communities)"
   ]
  },
  {
   "cell_type": "code",
   "execution_count": 115,
   "metadata": {
    "collapsed": true
   },
   "outputs": [],
   "source": [
    "SFPD_locations.to_csv('../data/clean_data/Police_Stations.csv', index=False)"
   ]
  },
  {
   "cell_type": "markdown",
   "metadata": {
    "collapsed": false
   },
   "source": [
    "# Process police incident data"
   ]
  },
  {
   "cell_type": "code",
   "execution_count": 62,
   "metadata": {
    "collapsed": false
   },
   "outputs": [],
   "source": [
    "police_incidents = pd.read_csv('../data/raw_data/SFPD_Incidents_4052016.csv')"
   ]
  },
  {
   "cell_type": "code",
   "execution_count": 65,
   "metadata": {
    "collapsed": false
   },
   "outputs": [],
   "source": [
    "police_incidents = police_incidents.rename(columns={'Location':'lat_long'})"
   ]
  },
  {
   "cell_type": "code",
   "execution_count": 66,
   "metadata": {
    "collapsed": true
   },
   "outputs": [],
   "source": [
    "# add zip code field to POLICE INCIDENT data using spatial join\n",
    "police_incidents = spatial_join_zipcode(police_incidents, communities)"
   ]
  },
  {
   "cell_type": "code",
   "execution_count": 69,
   "metadata": {
    "collapsed": false
   },
   "outputs": [],
   "source": [
    "police_incidents.to_csv('../data/clean_data/SFPD_Incidents_4052016.csv', index=False)"
   ]
  },
  {
   "cell_type": "markdown",
   "metadata": {},
   "source": [
    "# Process zillow/citydata"
   ]
  },
  {
   "cell_type": "code",
   "execution_count": 70,
   "metadata": {
    "collapsed": true
   },
   "outputs": [],
   "source": [
    "zillow_citydata = pd.read_csv('../data/raw_data/zillow_citydata.csv')"
   ]
  },
  {
   "cell_type": "code",
   "execution_count": 100,
   "metadata": {
    "collapsed": false
   },
   "outputs": [],
   "source": [
    "zillow_citydata = zillow_citydata.rename(columns={'lontitude':'longitude'})\n",
    "zillow_citydata[\"lat_long\"] = zillow_citydata[[\"latitude\", \"longitude\"]].apply(lambda x: str(tuple(x)), axis=1)"
   ]
  },
  {
   "cell_type": "code",
   "execution_count": 101,
   "metadata": {
    "collapsed": false
   },
   "outputs": [],
   "source": [
    "# add zip code field to ZILLOW/CITYDATA using spatial join\n",
    "zillow_citydata = spatial_join_zipcode(zillow_citydata, communities)\n",
    "del zillow_citydata[\"ZIP\"]\n",
    "del zillow_citydata[\"State\"]\n",
    "del zillow_citydata[\"City\"]"
   ]
  },
  {
   "cell_type": "code",
   "execution_count": 107,
   "metadata": {
    "collapsed": false
   },
   "outputs": [],
   "source": [
    "zillow_citydata.to_csv('../data/clean_data/zillow_citydata.csv', index=False)"
   ]
  },
  {
   "cell_type": "markdown",
   "metadata": {},
   "source": [
    "# Process restaurants data"
   ]
  },
  {
   "cell_type": "code",
   "execution_count": 162,
   "metadata": {
    "collapsed": true
   },
   "outputs": [],
   "source": [
    "restaurants = pd.read_csv('../data/raw_data/Restaurant.csv')"
   ]
  },
  {
   "cell_type": "code",
   "execution_count": 157,
   "metadata": {
    "collapsed": false
   },
   "outputs": [],
   "source": [
    "# restaurants = restaurants.rename(columns={'business_location':'lat_long'})\n",
    "# restaurants = restaurants.dropna(subset = [\"lat_long\"])\n",
    "\n",
    "# def remove_missing_lat_long(x):\n",
    "#     if len(x) >= 3:\n",
    "#         if x[2] != \"\":\n",
    "#             return x[2]\n",
    "#         else:\n",
    "#             return np.nan\n",
    "#     return np.nan\n",
    "\n",
    "# temp = restaurants[\"Business Location\"].apply(lambda x: x.split('\\n'))\n",
    "# restaurants[\"Address\"] = temp.apply(lambda x: x[0])\n",
    "# restaurants[\"City_State_Zipcode\"] = temp.apply(lambda x: x[1])\n",
    "# restaurants[\"lat_long\"] = temp.apply(lambda x: remove_missing_lat_long(x))\n",
    "# del restaurants[\"Business Location\"]\n",
    "# restaurants = restaurants.dropna(subset = [\"lat_long\"])"
   ]
  },
  {
   "cell_type": "code",
   "execution_count": 158,
   "metadata": {
    "collapsed": false
   },
   "outputs": [],
   "source": [
    "# add zip code field to RESTAURANTS data using spatial join\n",
    "# restaurants = spatial_join_zipcode(restaurants, communities)"
   ]
  },
  {
   "cell_type": "code",
   "execution_count": 163,
   "metadata": {
    "collapsed": true
   },
   "outputs": [],
   "source": [
    "# merge communities data on zip code because a lot of latitude/longitude data is missing\n",
    "restaurants = pd.merge(restaurants, communities, left_on=\"business_postal_code\", right_on=\"zip\", how=\"left\")"
   ]
  },
  {
   "cell_type": "code",
   "execution_count": 164,
   "metadata": {
    "collapsed": false
   },
   "outputs": [],
   "source": [
    "restaurants.to_csv('../data/clean_data/restaurants.csv', index=False)"
   ]
  },
  {
   "cell_type": "code",
   "execution_count": null,
   "metadata": {
    "collapsed": false
   },
   "outputs": [],
   "source": []
  },
  {
   "cell_type": "markdown",
   "metadata": {
    "collapsed": false
   },
   "source": [
    "# Clean gold standard data"
   ]
  },
  {
   "cell_type": "code",
   "execution_count": 315,
   "metadata": {
    "collapsed": false
   },
   "outputs": [],
   "source": [
    "gold_standard = pd.read_csv('../data/raw_data/gold_standard.csv')"
   ]
  },
  {
   "cell_type": "code",
   "execution_count": 316,
   "metadata": {
    "collapsed": true
   },
   "outputs": [],
   "source": [
    "gold_standard[\"lat_long\"] = gold_standard[[\"lat\", \"lon\"]].apply(lambda x: str(tuple(x)), axis=1)"
   ]
  },
  {
   "cell_type": "code",
   "execution_count": 317,
   "metadata": {
    "collapsed": false
   },
   "outputs": [],
   "source": [
    "# add zip code field to GOLD STANDARD using spatial join\n",
    "gold_standard = spatial_join_zipcode(gold_standard, communities)\n",
    "gold_standard[\"zip\"] = gold_standard[\"zip\"].astype(np.int64)\n",
    "gold_standard = gold_standard.drop([\"location\", \"lat\", \"lon\", \"lat_long\", \"geometry\", \"area\", \"length\", \"po_name\", \"state\", \"greenery\", \"safety\", \"restaurants\"], axis=1)"
   ]
  },
  {
   "cell_type": "code",
   "execution_count": 318,
   "metadata": {
    "collapsed": false
   },
   "outputs": [],
   "source": [
    "gold_standard = gold_standard.groupby([\"zip\"], as_index=False).mean()"
   ]
  },
  {
   "cell_type": "code",
   "execution_count": 319,
   "metadata": {
    "collapsed": false
   },
   "outputs": [],
   "source": [
    "# gold_standard[\"safety\"][gold_standard[\"safety\"] <= .8] = 0\n",
    "# gold_standard[\"safety\"][gold_standard[\"safety\"] > .8] = 1\n",
    "gold_standard[\"sanitation\"][gold_standard[\"sanitation\"] <= .6] = 0\n",
    "gold_standard[\"sanitation\"][gold_standard[\"sanitation\"] > .6] = 1\n",
    "gold_standard[\"peace_quiet\"][gold_standard[\"peace_quiet\"] <= .5] = 0\n",
    "gold_standard[\"peace_quiet\"][gold_standard[\"peace_quiet\"] > .5] = 1\n",
    "gold_standard[\"appearance\"][gold_standard[\"appearance\"] <= .5] = 0\n",
    "gold_standard[\"appearance\"][gold_standard[\"appearance\"] > .5] = 1\n",
    "gold_standard[\"children_friendly\"][gold_standard[\"children_friendly\"] <= .5] = 0\n",
    "gold_standard[\"children_friendly\"][gold_standard[\"children_friendly\"] > .5] = 1\n",
    "# gold_standard[\"greenery\"][gold_standard[\"greenery\"] < .5] = 0\n",
    "# gold_standard[\"greenery\"][gold_standard[\"greenery\"] >= .5] = 1\n",
    "gold_standard[\"walking_condition\"][gold_standard[\"walking_condition\"] <= .5] = 0\n",
    "gold_standard[\"walking_condition\"][gold_standard[\"walking_condition\"] > .5] = 1\n",
    "# gold_standard[\"restaurants\"][gold_standard[\"restaurants\"] <= .4] = 0\n",
    "# gold_standard[\"restaurants\"][gold_standard[\"restaurants\"] > .4] = 1\n",
    "gold_standard[\"coffee\"][gold_standard[\"coffee\"] < .4] = 0\n",
    "gold_standard[\"coffee\"][gold_standard[\"coffee\"] >= .4] = 1\n",
    "gold_standard[\"nightlife\"][gold_standard[\"nightlife\"] <= 0] = 0\n",
    "gold_standard[\"nightlife\"][gold_standard[\"nightlife\"] > 0] = 1\n",
    "gold_standard[\"dog_friendly\"][gold_standard[\"dog_friendly\"] < 1] = 0\n",
    "gold_standard[\"dog_friendly\"][gold_standard[\"dog_friendly\"] >= 1] = 1\n",
    "gold_standard[\"construction\"][gold_standard[\"construction\"] <= .1] = 0\n",
    "gold_standard[\"construction\"][gold_standard[\"construction\"] > .1] = 1"
   ]
  },
  {
   "cell_type": "code",
   "execution_count": 320,
   "metadata": {
    "collapsed": false
   },
   "outputs": [],
   "source": [
    "parks = pd.read_csv('../data/clean_data/parks.csv')\n",
    "schools = pd.read_csv('../data/clean_data/schools.csv')\n",
    "bart_stations = pd.read_csv('../data/clean_data/bart_stations.csv')\n",
    "# SFPD_locations = pd.read_csv('../data/clean_data/Police_Stations.csv')\n",
    "SFPD_incidents = pd.read_csv('../data/clean_data/SFPD_Incidents_4052016.csv')\n",
    "zillow_citydata = pd.read_csv('../data/clean_data/zillow_citydata.csv')\n",
    "restaurants = pd.read_csv('../data/clean_data/restaurants.csv')"
   ]
  },
  {
   "cell_type": "code",
   "execution_count": 321,
   "metadata": {
    "collapsed": false
   },
   "outputs": [],
   "source": [
    "# adding parks - binary\n",
    "temp = parks.groupby([\"zip\", \"area\"], as_index=False).size().reset_index().rename(columns={0:'parks'})\n",
    "temp[\"parks\"] = temp[\"parks\"]/temp[\"area\"]*1e7 # normalizing using the area of the zip code\n",
    "del temp[\"area\"]\n",
    "temp[\"parks\"][temp[\"parks\"] <= 3] = 0\n",
    "temp[\"parks\"][temp[\"parks\"] > 3] = 1\n",
    "gold_standard = gold_standard.merge(temp, on=\"zip\", how=\"left\")\n",
    "\n",
    "# adding schools - binary\n",
    "temp = schools.groupby([\"zip\", \"area\"], as_index=False).size().reset_index().rename(columns={0:'schools'})\n",
    "temp[\"schools\"] = temp[\"schools\"]/temp[\"area\"]*1e7 # normalizing using the area of the zip code\n",
    "del temp[\"area\"]\n",
    "temp[\"schools\"][temp[\"schools\"] <= 5] = 0\n",
    "temp[\"schools\"][temp[\"schools\"] > 5] = 1\n",
    "gold_standard = gold_standard.merge(temp, on=\"zip\", how=\"left\")\n",
    "\n",
    "# adding bart_stations - binary\n",
    "temp = bart_stations.groupby([\"zip\"], as_index=False).size().reset_index().rename(columns={0:'bart_stations'})\n",
    "temp[\"bart_stations\"][temp[\"bart_stations\"] < 1] = 0\n",
    "temp[\"bart_stations\"][temp[\"bart_stations\"] >= 1] = 1\n",
    "gold_standard = gold_standard.merge(temp, on=\"zip\", how=\"left\")\n",
    "\n",
    "# # adding SFPD_locations - binary\n",
    "# temp = SFPD_locations.groupby([\"zip\"], as_index=False).size().reset_index().rename(columns={0:'SFPD_stations'})\n",
    "# temp[\"SFPD_stations\"][temp[\"SFPD_stations\"] < 1] = 0\n",
    "# temp[\"SFPD_stations\"][temp[\"SFPD_stations\"] >= 1] = 1\n",
    "# gold_standard = gold_standard.merge(temp, on=\"zip\", how=\"left\")\n",
    "\n",
    "# adding SFPD_incidents - binary\n",
    "temp = SFPD_incidents.groupby([\"zip\", \"area\"], as_index=False).size().reset_index().rename(columns={0:'safety'})\n",
    "temp[\"safety\"] = temp[\"safety\"]/temp[\"area\"]*1e7 # normalizing using the area of the zip code\n",
    "del temp[\"area\"]\n",
    "temp[\"safety\"][temp[\"safety\"] <= 1000] = 0\n",
    "temp[\"safety\"][temp[\"safety\"] > 1000] = 1\n",
    "gold_standard = gold_standard.merge(temp, on=\"zip\", how=\"left\")\n",
    "\n",
    "# adding restaurants - binary\n",
    "temp = restaurants.groupby([\"business_postal_code\", \"business_name\", \"area\"], as_index=False).size().reset_index().rename(columns={\"business_postal_code\":\"zip\", 0:'restaurants'})\n",
    "temp = temp.groupby([\"zip\", \"area\"], as_index=False).size().reset_index().rename(columns={0:'restaurants'})\n",
    "temp[\"restaurants\"] = temp[\"restaurants\"]/temp[\"area\"]*1e7 # normalizing using the area of the zip code\n",
    "del temp[\"area\"]\n",
    "temp[\"restaurants\"][temp[\"restaurants\"] <= 100] = 0\n",
    "temp[\"restaurants\"][temp[\"restaurants\"] > 100] = 1\n",
    "temp[\"zip\"] = temp[\"zip\"].astype(np.int64)\n",
    "gold_standard = gold_standard.merge(temp, on=\"zip\", how=\"left\")\n",
    "\n",
    "# adding zillow_citydata - binary\n",
    "zillow_citydata[\"avg_rent\"] = zillow_citydata[\"ZRent\"]/zillow_citydata[\"sqft\"]*450\n",
    "temp = zillow_citydata.groupby([\"zip\"], as_index=False).mean()[[\"zip\", \"avg_rent\"]]\n",
    "gold_standard = gold_standard.merge(temp, on=\"zip\", how=\"left\")\n",
    "\n",
    "# set all NaN values to 0\n",
    "gold_standard = gold_standard.fillna(0)"
   ]
  },
  {
   "cell_type": "code",
   "execution_count": 322,
   "metadata": {
    "collapsed": false
   },
   "outputs": [],
   "source": [
    "gold_standard[\"similarity\"] = 0\n",
    "gold_standard = gold_standard[[\"zip\",\"safety\",\"sanitation\",\"peace_quiet\",\"appearance\",\"children_friendly\",\n",
    "                              \"walking_condition\",\"restaurants\",\"coffee\",\"nightlife\",\"dog_friendly\",\n",
    "                               \"construction\",\"parks\",\"schools\",\"bart_stations\",\"avg_rent\",\"similarity\"]]\n",
    "gold_standard.to_csv('../data/clean_data/gold_standard.csv', index=False)"
   ]
  },
  {
   "cell_type": "code",
   "execution_count": 323,
   "metadata": {
    "collapsed": false
   },
   "outputs": [
    {
     "data": {
      "text/html": [
       "<div>\n",
       "<table border=\"1\" class=\"dataframe\">\n",
       "  <thead>\n",
       "    <tr style=\"text-align: right;\">\n",
       "      <th></th>\n",
       "      <th>zip</th>\n",
       "      <th>safety</th>\n",
       "      <th>sanitation</th>\n",
       "      <th>peace_quiet</th>\n",
       "      <th>appearance</th>\n",
       "      <th>children_friendly</th>\n",
       "      <th>walking_condition</th>\n",
       "      <th>restaurants</th>\n",
       "      <th>coffee</th>\n",
       "      <th>nightlife</th>\n",
       "      <th>dog_friendly</th>\n",
       "      <th>construction</th>\n",
       "      <th>parks</th>\n",
       "      <th>schools</th>\n",
       "      <th>bart_stations</th>\n",
       "      <th>avg_rent</th>\n",
       "      <th>similarity</th>\n",
       "    </tr>\n",
       "  </thead>\n",
       "  <tbody>\n",
       "    <tr>\n",
       "      <th>0</th>\n",
       "      <td>94102</td>\n",
       "      <td>1.0</td>\n",
       "      <td>1.0</td>\n",
       "      <td>0.0</td>\n",
       "      <td>0.0</td>\n",
       "      <td>0.0</td>\n",
       "      <td>1.0</td>\n",
       "      <td>1.0</td>\n",
       "      <td>1.0</td>\n",
       "      <td>1.0</td>\n",
       "      <td>1.0</td>\n",
       "      <td>1.0</td>\n",
       "      <td>1.0</td>\n",
       "      <td>1.0</td>\n",
       "      <td>0.0</td>\n",
       "      <td>2330.832106</td>\n",
       "      <td>0</td>\n",
       "    </tr>\n",
       "    <tr>\n",
       "      <th>1</th>\n",
       "      <td>94103</td>\n",
       "      <td>1.0</td>\n",
       "      <td>0.0</td>\n",
       "      <td>0.0</td>\n",
       "      <td>0.0</td>\n",
       "      <td>0.0</td>\n",
       "      <td>0.0</td>\n",
       "      <td>1.0</td>\n",
       "      <td>0.0</td>\n",
       "      <td>1.0</td>\n",
       "      <td>0.0</td>\n",
       "      <td>1.0</td>\n",
       "      <td>0.0</td>\n",
       "      <td>0.0</td>\n",
       "      <td>1.0</td>\n",
       "      <td>2615.436078</td>\n",
       "      <td>0</td>\n",
       "    </tr>\n",
       "    <tr>\n",
       "      <th>2</th>\n",
       "      <td>94104</td>\n",
       "      <td>1.0</td>\n",
       "      <td>0.0</td>\n",
       "      <td>0.0</td>\n",
       "      <td>0.0</td>\n",
       "      <td>0.0</td>\n",
       "      <td>1.0</td>\n",
       "      <td>1.0</td>\n",
       "      <td>1.0</td>\n",
       "      <td>1.0</td>\n",
       "      <td>0.0</td>\n",
       "      <td>0.0</td>\n",
       "      <td>0.0</td>\n",
       "      <td>0.0</td>\n",
       "      <td>0.0</td>\n",
       "      <td>2420.167426</td>\n",
       "      <td>0</td>\n",
       "    </tr>\n",
       "    <tr>\n",
       "      <th>3</th>\n",
       "      <td>94105</td>\n",
       "      <td>1.0</td>\n",
       "      <td>1.0</td>\n",
       "      <td>0.0</td>\n",
       "      <td>0.0</td>\n",
       "      <td>0.0</td>\n",
       "      <td>0.0</td>\n",
       "      <td>1.0</td>\n",
       "      <td>1.0</td>\n",
       "      <td>1.0</td>\n",
       "      <td>0.0</td>\n",
       "      <td>1.0</td>\n",
       "      <td>0.0</td>\n",
       "      <td>1.0</td>\n",
       "      <td>1.0</td>\n",
       "      <td>1949.499818</td>\n",
       "      <td>0</td>\n",
       "    </tr>\n",
       "    <tr>\n",
       "      <th>4</th>\n",
       "      <td>94107</td>\n",
       "      <td>1.0</td>\n",
       "      <td>1.0</td>\n",
       "      <td>0.0</td>\n",
       "      <td>1.0</td>\n",
       "      <td>1.0</td>\n",
       "      <td>0.0</td>\n",
       "      <td>0.0</td>\n",
       "      <td>1.0</td>\n",
       "      <td>1.0</td>\n",
       "      <td>0.0</td>\n",
       "      <td>1.0</td>\n",
       "      <td>0.0</td>\n",
       "      <td>0.0</td>\n",
       "      <td>0.0</td>\n",
       "      <td>2045.735398</td>\n",
       "      <td>0</td>\n",
       "    </tr>\n",
       "    <tr>\n",
       "      <th>5</th>\n",
       "      <td>94108</td>\n",
       "      <td>1.0</td>\n",
       "      <td>1.0</td>\n",
       "      <td>0.0</td>\n",
       "      <td>0.0</td>\n",
       "      <td>0.0</td>\n",
       "      <td>1.0</td>\n",
       "      <td>1.0</td>\n",
       "      <td>1.0</td>\n",
       "      <td>1.0</td>\n",
       "      <td>1.0</td>\n",
       "      <td>0.0</td>\n",
       "      <td>1.0</td>\n",
       "      <td>1.0</td>\n",
       "      <td>0.0</td>\n",
       "      <td>2652.314835</td>\n",
       "      <td>0</td>\n",
       "    </tr>\n",
       "    <tr>\n",
       "      <th>6</th>\n",
       "      <td>94109</td>\n",
       "      <td>1.0</td>\n",
       "      <td>1.0</td>\n",
       "      <td>0.0</td>\n",
       "      <td>0.0</td>\n",
       "      <td>0.0</td>\n",
       "      <td>1.0</td>\n",
       "      <td>1.0</td>\n",
       "      <td>1.0</td>\n",
       "      <td>1.0</td>\n",
       "      <td>1.0</td>\n",
       "      <td>0.0</td>\n",
       "      <td>1.0</td>\n",
       "      <td>0.0</td>\n",
       "      <td>0.0</td>\n",
       "      <td>2126.193504</td>\n",
       "      <td>0</td>\n",
       "    </tr>\n",
       "    <tr>\n",
       "      <th>7</th>\n",
       "      <td>94110</td>\n",
       "      <td>1.0</td>\n",
       "      <td>1.0</td>\n",
       "      <td>1.0</td>\n",
       "      <td>1.0</td>\n",
       "      <td>1.0</td>\n",
       "      <td>1.0</td>\n",
       "      <td>0.0</td>\n",
       "      <td>0.0</td>\n",
       "      <td>1.0</td>\n",
       "      <td>1.0</td>\n",
       "      <td>0.0</td>\n",
       "      <td>1.0</td>\n",
       "      <td>1.0</td>\n",
       "      <td>1.0</td>\n",
       "      <td>2442.880974</td>\n",
       "      <td>0</td>\n",
       "    </tr>\n",
       "    <tr>\n",
       "      <th>8</th>\n",
       "      <td>94111</td>\n",
       "      <td>1.0</td>\n",
       "      <td>1.0</td>\n",
       "      <td>1.0</td>\n",
       "      <td>1.0</td>\n",
       "      <td>1.0</td>\n",
       "      <td>1.0</td>\n",
       "      <td>1.0</td>\n",
       "      <td>0.0</td>\n",
       "      <td>1.0</td>\n",
       "      <td>1.0</td>\n",
       "      <td>0.0</td>\n",
       "      <td>1.0</td>\n",
       "      <td>1.0</td>\n",
       "      <td>0.0</td>\n",
       "      <td>2196.262982</td>\n",
       "      <td>0</td>\n",
       "    </tr>\n",
       "    <tr>\n",
       "      <th>9</th>\n",
       "      <td>94112</td>\n",
       "      <td>0.0</td>\n",
       "      <td>1.0</td>\n",
       "      <td>0.0</td>\n",
       "      <td>1.0</td>\n",
       "      <td>1.0</td>\n",
       "      <td>1.0</td>\n",
       "      <td>0.0</td>\n",
       "      <td>0.0</td>\n",
       "      <td>0.0</td>\n",
       "      <td>1.0</td>\n",
       "      <td>0.0</td>\n",
       "      <td>0.0</td>\n",
       "      <td>0.0</td>\n",
       "      <td>1.0</td>\n",
       "      <td>2713.020358</td>\n",
       "      <td>0</td>\n",
       "    </tr>\n",
       "    <tr>\n",
       "      <th>10</th>\n",
       "      <td>94114</td>\n",
       "      <td>1.0</td>\n",
       "      <td>1.0</td>\n",
       "      <td>1.0</td>\n",
       "      <td>1.0</td>\n",
       "      <td>1.0</td>\n",
       "      <td>1.0</td>\n",
       "      <td>0.0</td>\n",
       "      <td>1.0</td>\n",
       "      <td>1.0</td>\n",
       "      <td>1.0</td>\n",
       "      <td>0.0</td>\n",
       "      <td>1.0</td>\n",
       "      <td>0.0</td>\n",
       "      <td>0.0</td>\n",
       "      <td>2503.785909</td>\n",
       "      <td>0</td>\n",
       "    </tr>\n",
       "    <tr>\n",
       "      <th>11</th>\n",
       "      <td>94115</td>\n",
       "      <td>1.0</td>\n",
       "      <td>1.0</td>\n",
       "      <td>1.0</td>\n",
       "      <td>0.0</td>\n",
       "      <td>1.0</td>\n",
       "      <td>1.0</td>\n",
       "      <td>0.0</td>\n",
       "      <td>0.0</td>\n",
       "      <td>1.0</td>\n",
       "      <td>1.0</td>\n",
       "      <td>1.0</td>\n",
       "      <td>1.0</td>\n",
       "      <td>1.0</td>\n",
       "      <td>0.0</td>\n",
       "      <td>3092.833448</td>\n",
       "      <td>0</td>\n",
       "    </tr>\n",
       "    <tr>\n",
       "      <th>12</th>\n",
       "      <td>94116</td>\n",
       "      <td>0.0</td>\n",
       "      <td>1.0</td>\n",
       "      <td>1.0</td>\n",
       "      <td>0.0</td>\n",
       "      <td>1.0</td>\n",
       "      <td>1.0</td>\n",
       "      <td>0.0</td>\n",
       "      <td>0.0</td>\n",
       "      <td>0.0</td>\n",
       "      <td>1.0</td>\n",
       "      <td>1.0</td>\n",
       "      <td>0.0</td>\n",
       "      <td>0.0</td>\n",
       "      <td>0.0</td>\n",
       "      <td>2880.901039</td>\n",
       "      <td>0</td>\n",
       "    </tr>\n",
       "    <tr>\n",
       "      <th>13</th>\n",
       "      <td>94117</td>\n",
       "      <td>1.0</td>\n",
       "      <td>1.0</td>\n",
       "      <td>1.0</td>\n",
       "      <td>1.0</td>\n",
       "      <td>1.0</td>\n",
       "      <td>1.0</td>\n",
       "      <td>0.0</td>\n",
       "      <td>1.0</td>\n",
       "      <td>1.0</td>\n",
       "      <td>1.0</td>\n",
       "      <td>0.0</td>\n",
       "      <td>0.0</td>\n",
       "      <td>1.0</td>\n",
       "      <td>0.0</td>\n",
       "      <td>3261.422589</td>\n",
       "      <td>0</td>\n",
       "    </tr>\n",
       "    <tr>\n",
       "      <th>14</th>\n",
       "      <td>94118</td>\n",
       "      <td>0.0</td>\n",
       "      <td>1.0</td>\n",
       "      <td>1.0</td>\n",
       "      <td>1.0</td>\n",
       "      <td>1.0</td>\n",
       "      <td>1.0</td>\n",
       "      <td>0.0</td>\n",
       "      <td>1.0</td>\n",
       "      <td>1.0</td>\n",
       "      <td>1.0</td>\n",
       "      <td>1.0</td>\n",
       "      <td>0.0</td>\n",
       "      <td>1.0</td>\n",
       "      <td>0.0</td>\n",
       "      <td>3681.298721</td>\n",
       "      <td>0</td>\n",
       "    </tr>\n",
       "    <tr>\n",
       "      <th>15</th>\n",
       "      <td>94121</td>\n",
       "      <td>0.0</td>\n",
       "      <td>1.0</td>\n",
       "      <td>1.0</td>\n",
       "      <td>0.0</td>\n",
       "      <td>1.0</td>\n",
       "      <td>1.0</td>\n",
       "      <td>0.0</td>\n",
       "      <td>1.0</td>\n",
       "      <td>1.0</td>\n",
       "      <td>1.0</td>\n",
       "      <td>1.0</td>\n",
       "      <td>0.0</td>\n",
       "      <td>0.0</td>\n",
       "      <td>0.0</td>\n",
       "      <td>3516.351945</td>\n",
       "      <td>0</td>\n",
       "    </tr>\n",
       "    <tr>\n",
       "      <th>16</th>\n",
       "      <td>94122</td>\n",
       "      <td>0.0</td>\n",
       "      <td>1.0</td>\n",
       "      <td>1.0</td>\n",
       "      <td>1.0</td>\n",
       "      <td>1.0</td>\n",
       "      <td>1.0</td>\n",
       "      <td>0.0</td>\n",
       "      <td>1.0</td>\n",
       "      <td>0.0</td>\n",
       "      <td>1.0</td>\n",
       "      <td>1.0</td>\n",
       "      <td>0.0</td>\n",
       "      <td>0.0</td>\n",
       "      <td>0.0</td>\n",
       "      <td>3043.638437</td>\n",
       "      <td>0</td>\n",
       "    </tr>\n",
       "    <tr>\n",
       "      <th>17</th>\n",
       "      <td>94123</td>\n",
       "      <td>1.0</td>\n",
       "      <td>1.0</td>\n",
       "      <td>0.0</td>\n",
       "      <td>0.0</td>\n",
       "      <td>1.0</td>\n",
       "      <td>1.0</td>\n",
       "      <td>0.0</td>\n",
       "      <td>1.0</td>\n",
       "      <td>1.0</td>\n",
       "      <td>1.0</td>\n",
       "      <td>0.0</td>\n",
       "      <td>0.0</td>\n",
       "      <td>1.0</td>\n",
       "      <td>0.0</td>\n",
       "      <td>4178.818695</td>\n",
       "      <td>0</td>\n",
       "    </tr>\n",
       "    <tr>\n",
       "      <th>18</th>\n",
       "      <td>94124</td>\n",
       "      <td>0.0</td>\n",
       "      <td>0.0</td>\n",
       "      <td>1.0</td>\n",
       "      <td>0.0</td>\n",
       "      <td>0.0</td>\n",
       "      <td>0.0</td>\n",
       "      <td>0.0</td>\n",
       "      <td>0.0</td>\n",
       "      <td>1.0</td>\n",
       "      <td>0.0</td>\n",
       "      <td>1.0</td>\n",
       "      <td>0.0</td>\n",
       "      <td>0.0</td>\n",
       "      <td>0.0</td>\n",
       "      <td>3647.846542</td>\n",
       "      <td>0</td>\n",
       "    </tr>\n",
       "    <tr>\n",
       "      <th>19</th>\n",
       "      <td>94127</td>\n",
       "      <td>0.0</td>\n",
       "      <td>1.0</td>\n",
       "      <td>1.0</td>\n",
       "      <td>1.0</td>\n",
       "      <td>1.0</td>\n",
       "      <td>1.0</td>\n",
       "      <td>0.0</td>\n",
       "      <td>0.0</td>\n",
       "      <td>0.0</td>\n",
       "      <td>1.0</td>\n",
       "      <td>0.0</td>\n",
       "      <td>0.0</td>\n",
       "      <td>0.0</td>\n",
       "      <td>0.0</td>\n",
       "      <td>3430.552686</td>\n",
       "      <td>0</td>\n",
       "    </tr>\n",
       "    <tr>\n",
       "      <th>20</th>\n",
       "      <td>94131</td>\n",
       "      <td>0.0</td>\n",
       "      <td>1.0</td>\n",
       "      <td>1.0</td>\n",
       "      <td>1.0</td>\n",
       "      <td>1.0</td>\n",
       "      <td>1.0</td>\n",
       "      <td>0.0</td>\n",
       "      <td>0.0</td>\n",
       "      <td>0.0</td>\n",
       "      <td>1.0</td>\n",
       "      <td>0.0</td>\n",
       "      <td>1.0</td>\n",
       "      <td>0.0</td>\n",
       "      <td>1.0</td>\n",
       "      <td>2606.567024</td>\n",
       "      <td>0</td>\n",
       "    </tr>\n",
       "    <tr>\n",
       "      <th>21</th>\n",
       "      <td>94132</td>\n",
       "      <td>0.0</td>\n",
       "      <td>1.0</td>\n",
       "      <td>0.0</td>\n",
       "      <td>1.0</td>\n",
       "      <td>1.0</td>\n",
       "      <td>1.0</td>\n",
       "      <td>0.0</td>\n",
       "      <td>1.0</td>\n",
       "      <td>1.0</td>\n",
       "      <td>1.0</td>\n",
       "      <td>1.0</td>\n",
       "      <td>0.0</td>\n",
       "      <td>0.0</td>\n",
       "      <td>0.0</td>\n",
       "      <td>3046.501421</td>\n",
       "      <td>0</td>\n",
       "    </tr>\n",
       "    <tr>\n",
       "      <th>22</th>\n",
       "      <td>94133</td>\n",
       "      <td>1.0</td>\n",
       "      <td>1.0</td>\n",
       "      <td>0.0</td>\n",
       "      <td>0.0</td>\n",
       "      <td>0.0</td>\n",
       "      <td>1.0</td>\n",
       "      <td>1.0</td>\n",
       "      <td>1.0</td>\n",
       "      <td>1.0</td>\n",
       "      <td>1.0</td>\n",
       "      <td>0.0</td>\n",
       "      <td>1.0</td>\n",
       "      <td>1.0</td>\n",
       "      <td>0.0</td>\n",
       "      <td>3623.977016</td>\n",
       "      <td>0</td>\n",
       "    </tr>\n",
       "    <tr>\n",
       "      <th>23</th>\n",
       "      <td>94134</td>\n",
       "      <td>0.0</td>\n",
       "      <td>1.0</td>\n",
       "      <td>1.0</td>\n",
       "      <td>1.0</td>\n",
       "      <td>1.0</td>\n",
       "      <td>1.0</td>\n",
       "      <td>0.0</td>\n",
       "      <td>1.0</td>\n",
       "      <td>1.0</td>\n",
       "      <td>1.0</td>\n",
       "      <td>0.0</td>\n",
       "      <td>0.0</td>\n",
       "      <td>0.0</td>\n",
       "      <td>0.0</td>\n",
       "      <td>3335.940645</td>\n",
       "      <td>0</td>\n",
       "    </tr>\n",
       "  </tbody>\n",
       "</table>\n",
       "</div>"
      ],
      "text/plain": [
       "      zip  safety  sanitation  peace_quiet  appearance  children_friendly  \\\n",
       "0   94102     1.0         1.0          0.0         0.0                0.0   \n",
       "1   94103     1.0         0.0          0.0         0.0                0.0   \n",
       "2   94104     1.0         0.0          0.0         0.0                0.0   \n",
       "3   94105     1.0         1.0          0.0         0.0                0.0   \n",
       "4   94107     1.0         1.0          0.0         1.0                1.0   \n",
       "5   94108     1.0         1.0          0.0         0.0                0.0   \n",
       "6   94109     1.0         1.0          0.0         0.0                0.0   \n",
       "7   94110     1.0         1.0          1.0         1.0                1.0   \n",
       "8   94111     1.0         1.0          1.0         1.0                1.0   \n",
       "9   94112     0.0         1.0          0.0         1.0                1.0   \n",
       "10  94114     1.0         1.0          1.0         1.0                1.0   \n",
       "11  94115     1.0         1.0          1.0         0.0                1.0   \n",
       "12  94116     0.0         1.0          1.0         0.0                1.0   \n",
       "13  94117     1.0         1.0          1.0         1.0                1.0   \n",
       "14  94118     0.0         1.0          1.0         1.0                1.0   \n",
       "15  94121     0.0         1.0          1.0         0.0                1.0   \n",
       "16  94122     0.0         1.0          1.0         1.0                1.0   \n",
       "17  94123     1.0         1.0          0.0         0.0                1.0   \n",
       "18  94124     0.0         0.0          1.0         0.0                0.0   \n",
       "19  94127     0.0         1.0          1.0         1.0                1.0   \n",
       "20  94131     0.0         1.0          1.0         1.0                1.0   \n",
       "21  94132     0.0         1.0          0.0         1.0                1.0   \n",
       "22  94133     1.0         1.0          0.0         0.0                0.0   \n",
       "23  94134     0.0         1.0          1.0         1.0                1.0   \n",
       "\n",
       "    walking_condition  restaurants  coffee  nightlife  dog_friendly  \\\n",
       "0                 1.0          1.0     1.0        1.0           1.0   \n",
       "1                 0.0          1.0     0.0        1.0           0.0   \n",
       "2                 1.0          1.0     1.0        1.0           0.0   \n",
       "3                 0.0          1.0     1.0        1.0           0.0   \n",
       "4                 0.0          0.0     1.0        1.0           0.0   \n",
       "5                 1.0          1.0     1.0        1.0           1.0   \n",
       "6                 1.0          1.0     1.0        1.0           1.0   \n",
       "7                 1.0          0.0     0.0        1.0           1.0   \n",
       "8                 1.0          1.0     0.0        1.0           1.0   \n",
       "9                 1.0          0.0     0.0        0.0           1.0   \n",
       "10                1.0          0.0     1.0        1.0           1.0   \n",
       "11                1.0          0.0     0.0        1.0           1.0   \n",
       "12                1.0          0.0     0.0        0.0           1.0   \n",
       "13                1.0          0.0     1.0        1.0           1.0   \n",
       "14                1.0          0.0     1.0        1.0           1.0   \n",
       "15                1.0          0.0     1.0        1.0           1.0   \n",
       "16                1.0          0.0     1.0        0.0           1.0   \n",
       "17                1.0          0.0     1.0        1.0           1.0   \n",
       "18                0.0          0.0     0.0        1.0           0.0   \n",
       "19                1.0          0.0     0.0        0.0           1.0   \n",
       "20                1.0          0.0     0.0        0.0           1.0   \n",
       "21                1.0          0.0     1.0        1.0           1.0   \n",
       "22                1.0          1.0     1.0        1.0           1.0   \n",
       "23                1.0          0.0     1.0        1.0           1.0   \n",
       "\n",
       "    construction  parks  schools  bart_stations     avg_rent  similarity  \n",
       "0            1.0    1.0      1.0            0.0  2330.832106           0  \n",
       "1            1.0    0.0      0.0            1.0  2615.436078           0  \n",
       "2            0.0    0.0      0.0            0.0  2420.167426           0  \n",
       "3            1.0    0.0      1.0            1.0  1949.499818           0  \n",
       "4            1.0    0.0      0.0            0.0  2045.735398           0  \n",
       "5            0.0    1.0      1.0            0.0  2652.314835           0  \n",
       "6            0.0    1.0      0.0            0.0  2126.193504           0  \n",
       "7            0.0    1.0      1.0            1.0  2442.880974           0  \n",
       "8            0.0    1.0      1.0            0.0  2196.262982           0  \n",
       "9            0.0    0.0      0.0            1.0  2713.020358           0  \n",
       "10           0.0    1.0      0.0            0.0  2503.785909           0  \n",
       "11           1.0    1.0      1.0            0.0  3092.833448           0  \n",
       "12           1.0    0.0      0.0            0.0  2880.901039           0  \n",
       "13           0.0    0.0      1.0            0.0  3261.422589           0  \n",
       "14           1.0    0.0      1.0            0.0  3681.298721           0  \n",
       "15           1.0    0.0      0.0            0.0  3516.351945           0  \n",
       "16           1.0    0.0      0.0            0.0  3043.638437           0  \n",
       "17           0.0    0.0      1.0            0.0  4178.818695           0  \n",
       "18           1.0    0.0      0.0            0.0  3647.846542           0  \n",
       "19           0.0    0.0      0.0            0.0  3430.552686           0  \n",
       "20           0.0    1.0      0.0            1.0  2606.567024           0  \n",
       "21           1.0    0.0      0.0            0.0  3046.501421           0  \n",
       "22           0.0    1.0      1.0            0.0  3623.977016           0  \n",
       "23           0.0    0.0      0.0            0.0  3335.940645           0  "
      ]
     },
     "execution_count": 323,
     "metadata": {},
     "output_type": "execute_result"
    }
   ],
   "source": [
    "gold_standard"
   ]
  },
  {
   "cell_type": "code",
   "execution_count": null,
   "metadata": {
    "collapsed": false
   },
   "outputs": [],
   "source": []
  },
  {
   "cell_type": "code",
   "execution_count": null,
   "metadata": {
    "collapsed": false
   },
   "outputs": [],
   "source": []
  },
  {
   "cell_type": "code",
   "execution_count": null,
   "metadata": {
    "collapsed": true
   },
   "outputs": [],
   "source": []
  }
 ],
 "metadata": {
  "anaconda-cloud": {},
  "kernelspec": {
   "display_name": "Python [default]",
   "language": "python",
   "name": "python2"
  },
  "language_info": {
   "codemirror_mode": {
    "name": "ipython",
    "version": 2
   },
   "file_extension": ".py",
   "mimetype": "text/x-python",
   "name": "python",
   "nbconvert_exporter": "python",
   "pygments_lexer": "ipython2",
   "version": "2.7.12"
  }
 },
 "nbformat": 4,
 "nbformat_minor": 1
}
