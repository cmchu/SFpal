{
 "cells": [
  {
   "cell_type": "code",
   "execution_count": 47,
   "metadata": {
    "collapsed": false
   },
   "outputs": [],
   "source": [
    "import pandas as pd\n",
    "import numpy as np\n",
    "import math\n",
    "import geopandas as gpd\n",
    "from shapely.geometry import Point\n",
    "\n",
    "import sys\n",
    "sys.path.append(\"/Users/Christine/MSAN_module4/msan631/SFpal/functions/data_transforming\")\n",
    "from spatial_analysis import *"
   ]
  },
  {
   "cell_type": "markdown",
   "metadata": {},
   "source": [
    "# Clip zip code shapefile to only SF"
   ]
  },
  {
   "cell_type": "code",
   "execution_count": 40,
   "metadata": {
    "collapsed": false
   },
   "outputs": [],
   "source": [
    "communities = gpd.read_file('../data/raw_data/zip_codes/geo_export_37348335-ac06-4ade-bf6d-453d393d539d.shp')"
   ]
  },
  {
   "cell_type": "code",
   "execution_count": 41,
   "metadata": {
    "collapsed": false
   },
   "outputs": [],
   "source": [
    "communities = communities[communities[\"po_name\"] == \"SAN FRANCISCO\"]"
   ]
  },
  {
   "cell_type": "code",
   "execution_count": 42,
   "metadata": {
    "collapsed": false
   },
   "outputs": [],
   "source": [
    "communities.to_file('../data/clean_data/SF_zip_codes/SF_zip_codes.shp')"
   ]
  },
  {
   "cell_type": "markdown",
   "metadata": {},
   "source": [
    "# Clean/Process parks data"
   ]
  },
  {
   "cell_type": "code",
   "execution_count": 43,
   "metadata": {
    "collapsed": false
   },
   "outputs": [],
   "source": [
    "parks = pd.read_csv('../data/raw_data/parks_data.csv')"
   ]
  },
  {
   "cell_type": "code",
   "execution_count": 44,
   "metadata": {
    "collapsed": false
   },
   "outputs": [],
   "source": [
    "parks = parks.iloc[1:,:]\n",
    "parks = parks.dropna(subset = [\"Location 1\"])"
   ]
  },
  {
   "cell_type": "code",
   "execution_count": 45,
   "metadata": {
    "collapsed": false
   },
   "outputs": [],
   "source": [
    "temp = parks[\"Location 1\"].apply(lambda x: x.split('\\n'))\n",
    "parks[\"address\"] = temp.apply(lambda x: x[0])\n",
    "parks[\"city_state\"] = temp.apply(lambda x: x[1])\n",
    "parks[\"lat_long\"] = temp.apply(lambda x: x[2])\n",
    "del parks[\"Location 1\"]\n",
    "del parks[\"Lat\"]\n",
    "del parks[\"Zipcode\"]"
   ]
  },
  {
   "cell_type": "code",
   "execution_count": 46,
   "metadata": {
    "collapsed": false
   },
   "outputs": [],
   "source": [
    "# Add zip code field to PARKS data using spatial join\n",
    "parks = spatial_join_zipcode(parks, communities)"
   ]
  },
  {
   "cell_type": "code",
   "execution_count": 17,
   "metadata": {
    "collapsed": false
   },
   "outputs": [],
   "source": [
    "parks.to_csv('../data/clean_data/parks.csv', index=False)"
   ]
  },
  {
   "cell_type": "markdown",
   "metadata": {
    "collapsed": false
   },
   "source": [
    "# Clean/Process schools data"
   ]
  },
  {
   "cell_type": "code",
   "execution_count": 34,
   "metadata": {
    "collapsed": false
   },
   "outputs": [],
   "source": [
    "schools = pd.read_csv('../data/raw_data/Schools.csv')"
   ]
  },
  {
   "cell_type": "code",
   "execution_count": 35,
   "metadata": {
    "collapsed": false
   },
   "outputs": [],
   "source": [
    "schools = schools.dropna(subset = [\"Location 1\"])\n",
    "temp = schools[\"Location 1\"].apply(lambda x: x.split('\\n'))\n",
    "schools[\"State\"] = temp.apply(lambda x: x[0])\n",
    "schools[\"lat_long\"] = temp.apply(lambda x: x[1])\n",
    "del schools[\"Location 1\"]\n",
    "del schools[\"State\"]"
   ]
  },
  {
   "cell_type": "code",
   "execution_count": 36,
   "metadata": {
    "collapsed": false
   },
   "outputs": [],
   "source": [
    "# Add zip code field to SCHOOLS data using spatial join\n",
    "schools = spatial_join_zipcode(schools, communities)"
   ]
  },
  {
   "cell_type": "code",
   "execution_count": 83,
   "metadata": {
    "collapsed": true
   },
   "outputs": [],
   "source": [
    "schools.to_csv('../data/clean_data/schools.csv', index=False)"
   ]
  },
  {
   "cell_type": "markdown",
   "metadata": {},
   "source": [
    "# Clean/Process bart stations data"
   ]
  },
  {
   "cell_type": "code",
   "execution_count": 37,
   "metadata": {
    "collapsed": true
   },
   "outputs": [],
   "source": [
    "bart_stations = gpd.read_file('../data/raw_data/bart_stations/BART_Sta_13.shp')"
   ]
  },
  {
   "cell_type": "code",
   "execution_count": 85,
   "metadata": {
    "collapsed": false
   },
   "outputs": [],
   "source": [
    "# Add zip code field to BART STATIONS data using spatial join\n",
    "bart_stations = bart_stations.to_crs({'init': 'epsg:4326'})\n",
    "bart_stations = gpd.sjoin(bart_stations, communities, how=\"inner\", op='intersects')\n",
    "del bart_stations[\"index_right\"]"
   ]
  },
  {
   "cell_type": "code",
   "execution_count": 87,
   "metadata": {
    "collapsed": false
   },
   "outputs": [],
   "source": [
    "bart_stations.to_csv('../data/clean_data/bart_stations.csv', index=False)"
   ]
  },
  {
   "cell_type": "code",
   "execution_count": null,
   "metadata": {
    "collapsed": false
   },
   "outputs": [],
   "source": []
  },
  {
   "cell_type": "code",
   "execution_count": null,
   "metadata": {
    "collapsed": true
   },
   "outputs": [],
   "source": []
  }
 ],
 "metadata": {
  "anaconda-cloud": {},
  "kernelspec": {
   "display_name": "Python [default]",
   "language": "python",
   "name": "python2"
  }
 },
 "nbformat": 4,
 "nbformat_minor": 1
}
