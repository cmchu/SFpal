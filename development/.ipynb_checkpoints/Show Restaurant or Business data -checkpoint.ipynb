{
 "cells": [
  {
   "cell_type": "code",
   "execution_count": 1,
   "metadata": {
    "collapsed": true
   },
   "outputs": [],
   "source": [
    "import pandas as pd\n",
    "import sys\n",
    "sys.path.append('/Users/linda/SFpal/data') #Linda: Mac"
   ]
  },
  {
   "cell_type": "code",
   "execution_count": 3,
   "metadata": {
    "collapsed": false
   },
   "outputs": [],
   "source": [
    "restaurants = pd.read_csv('/Users/linda/SFpal/data/Restaurant_Scores.csv')"
   ]
  },
  {
   "cell_type": "code",
   "execution_count": 6,
   "metadata": {
    "collapsed": false
   },
   "outputs": [
    {
     "data": {
      "text/plain": [
       "(53729, 17)"
      ]
     },
     "execution_count": 6,
     "metadata": {},
     "output_type": "execute_result"
    }
   ],
   "source": [
    "restaurants[restaurants.business_city=='San Francisco'].shape"
   ]
  },
  {
   "cell_type": "code",
   "execution_count": 5,
   "metadata": {
    "collapsed": false
   },
   "outputs": [
    {
     "data": {
      "text/html": [
       "<div>\n",
       "<table border=\"1\" class=\"dataframe\">\n",
       "  <thead>\n",
       "    <tr style=\"text-align: right;\">\n",
       "      <th></th>\n",
       "      <th>business_id</th>\n",
       "      <th>business_name</th>\n",
       "      <th>business_address</th>\n",
       "      <th>business_city</th>\n",
       "      <th>business_state</th>\n",
       "      <th>business_postal_code</th>\n",
       "      <th>business_latitude</th>\n",
       "      <th>business_longitude</th>\n",
       "      <th>business_location</th>\n",
       "      <th>business_phone_number</th>\n",
       "      <th>inspection_id</th>\n",
       "      <th>inspection_date</th>\n",
       "      <th>inspection_score</th>\n",
       "      <th>inspection_type</th>\n",
       "      <th>violation_id</th>\n",
       "      <th>violation_description</th>\n",
       "      <th>risk_category</th>\n",
       "    </tr>\n",
       "  </thead>\n",
       "  <tbody>\n",
       "    <tr>\n",
       "      <th>0</th>\n",
       "      <td>10</td>\n",
       "      <td>Tiramisu Kitchen</td>\n",
       "      <td>033 Belden Pl</td>\n",
       "      <td>San Francisco</td>\n",
       "      <td>CA</td>\n",
       "      <td>94104</td>\n",
       "      <td>37.791116</td>\n",
       "      <td>-122.403816</td>\n",
       "      <td>(37.791116, -122.403816)</td>\n",
       "      <td>NaN</td>\n",
       "      <td>10_20140114</td>\n",
       "      <td>01/14/2014 12:00:00 AM</td>\n",
       "      <td>92.0</td>\n",
       "      <td>Routine - Unscheduled</td>\n",
       "      <td>10_20140114_103119</td>\n",
       "      <td>Inadequate and inaccessible handwashing facili...</td>\n",
       "      <td>Moderate Risk</td>\n",
       "    </tr>\n",
       "    <tr>\n",
       "      <th>1</th>\n",
       "      <td>10</td>\n",
       "      <td>Tiramisu Kitchen</td>\n",
       "      <td>033 Belden Pl</td>\n",
       "      <td>San Francisco</td>\n",
       "      <td>CA</td>\n",
       "      <td>94104</td>\n",
       "      <td>37.791116</td>\n",
       "      <td>-122.403816</td>\n",
       "      <td>(37.791116, -122.403816)</td>\n",
       "      <td>NaN</td>\n",
       "      <td>10_20140114</td>\n",
       "      <td>01/14/2014 12:00:00 AM</td>\n",
       "      <td>92.0</td>\n",
       "      <td>Routine - Unscheduled</td>\n",
       "      <td>10_20140114_103145</td>\n",
       "      <td>Improper storage of equipment utensils or linens</td>\n",
       "      <td>Low Risk</td>\n",
       "    </tr>\n",
       "    <tr>\n",
       "      <th>2</th>\n",
       "      <td>10</td>\n",
       "      <td>Tiramisu Kitchen</td>\n",
       "      <td>033 Belden Pl</td>\n",
       "      <td>San Francisco</td>\n",
       "      <td>CA</td>\n",
       "      <td>94104</td>\n",
       "      <td>37.791116</td>\n",
       "      <td>-122.403816</td>\n",
       "      <td>(37.791116, -122.403816)</td>\n",
       "      <td>NaN</td>\n",
       "      <td>10_20140114</td>\n",
       "      <td>01/14/2014 12:00:00 AM</td>\n",
       "      <td>92.0</td>\n",
       "      <td>Routine - Unscheduled</td>\n",
       "      <td>10_20140114_103154</td>\n",
       "      <td>Unclean or degraded floors walls or ceilings</td>\n",
       "      <td>Low Risk</td>\n",
       "    </tr>\n",
       "    <tr>\n",
       "      <th>3</th>\n",
       "      <td>10</td>\n",
       "      <td>Tiramisu Kitchen</td>\n",
       "      <td>033 Belden Pl</td>\n",
       "      <td>San Francisco</td>\n",
       "      <td>CA</td>\n",
       "      <td>94104</td>\n",
       "      <td>37.791116</td>\n",
       "      <td>-122.403816</td>\n",
       "      <td>(37.791116, -122.403816)</td>\n",
       "      <td>NaN</td>\n",
       "      <td>10_20140729</td>\n",
       "      <td>07/29/2014 12:00:00 AM</td>\n",
       "      <td>94.0</td>\n",
       "      <td>Routine - Unscheduled</td>\n",
       "      <td>10_20140729_103144</td>\n",
       "      <td>Unapproved or unmaintained equipment or utensils</td>\n",
       "      <td>Low Risk</td>\n",
       "    </tr>\n",
       "    <tr>\n",
       "      <th>4</th>\n",
       "      <td>10</td>\n",
       "      <td>Tiramisu Kitchen</td>\n",
       "      <td>033 Belden Pl</td>\n",
       "      <td>San Francisco</td>\n",
       "      <td>CA</td>\n",
       "      <td>94104</td>\n",
       "      <td>37.791116</td>\n",
       "      <td>-122.403816</td>\n",
       "      <td>(37.791116, -122.403816)</td>\n",
       "      <td>NaN</td>\n",
       "      <td>10_20140729</td>\n",
       "      <td>07/29/2014 12:00:00 AM</td>\n",
       "      <td>94.0</td>\n",
       "      <td>Routine - Unscheduled</td>\n",
       "      <td>10_20140729_103129</td>\n",
       "      <td>Insufficient hot water or running water</td>\n",
       "      <td>Moderate Risk</td>\n",
       "    </tr>\n",
       "  </tbody>\n",
       "</table>\n",
       "</div>"
      ],
      "text/plain": [
       "   business_id     business_name business_address  business_city  \\\n",
       "0           10  Tiramisu Kitchen    033 Belden Pl  San Francisco   \n",
       "1           10  Tiramisu Kitchen    033 Belden Pl  San Francisco   \n",
       "2           10  Tiramisu Kitchen    033 Belden Pl  San Francisco   \n",
       "3           10  Tiramisu Kitchen    033 Belden Pl  San Francisco   \n",
       "4           10  Tiramisu Kitchen    033 Belden Pl  San Francisco   \n",
       "\n",
       "  business_state business_postal_code  business_latitude  business_longitude  \\\n",
       "0             CA                94104          37.791116         -122.403816   \n",
       "1             CA                94104          37.791116         -122.403816   \n",
       "2             CA                94104          37.791116         -122.403816   \n",
       "3             CA                94104          37.791116         -122.403816   \n",
       "4             CA                94104          37.791116         -122.403816   \n",
       "\n",
       "          business_location  business_phone_number inspection_id  \\\n",
       "0  (37.791116, -122.403816)                    NaN   10_20140114   \n",
       "1  (37.791116, -122.403816)                    NaN   10_20140114   \n",
       "2  (37.791116, -122.403816)                    NaN   10_20140114   \n",
       "3  (37.791116, -122.403816)                    NaN   10_20140729   \n",
       "4  (37.791116, -122.403816)                    NaN   10_20140729   \n",
       "\n",
       "          inspection_date  inspection_score        inspection_type  \\\n",
       "0  01/14/2014 12:00:00 AM              92.0  Routine - Unscheduled   \n",
       "1  01/14/2014 12:00:00 AM              92.0  Routine - Unscheduled   \n",
       "2  01/14/2014 12:00:00 AM              92.0  Routine - Unscheduled   \n",
       "3  07/29/2014 12:00:00 AM              94.0  Routine - Unscheduled   \n",
       "4  07/29/2014 12:00:00 AM              94.0  Routine - Unscheduled   \n",
       "\n",
       "         violation_id                              violation_description  \\\n",
       "0  10_20140114_103119  Inadequate and inaccessible handwashing facili...   \n",
       "1  10_20140114_103145   Improper storage of equipment utensils or linens   \n",
       "2  10_20140114_103154       Unclean or degraded floors walls or ceilings   \n",
       "3  10_20140729_103144   Unapproved or unmaintained equipment or utensils   \n",
       "4  10_20140729_103129            Insufficient hot water or running water   \n",
       "\n",
       "   risk_category  \n",
       "0  Moderate Risk  \n",
       "1       Low Risk  \n",
       "2       Low Risk  \n",
       "3       Low Risk  \n",
       "4  Moderate Risk  "
      ]
     },
     "execution_count": 5,
     "metadata": {},
     "output_type": "execute_result"
    }
   ],
   "source": [
    "restaurants.head()"
   ]
  },
  {
   "cell_type": "code",
   "execution_count": null,
   "metadata": {
    "collapsed": true
   },
   "outputs": [],
   "source": []
  }
 ],
 "metadata": {
  "anaconda-cloud": {},
  "kernelspec": {
   "display_name": "Python [conda root]",
   "language": "python",
   "name": "conda-root-py"
  },
  "language_info": {
   "codemirror_mode": {
    "name": "ipython",
    "version": 2
   },
   "file_extension": ".py",
   "mimetype": "text/x-python",
   "name": "python",
   "nbconvert_exporter": "python",
   "pygments_lexer": "ipython2",
   "version": "2.7.12"
  }
 },
 "nbformat": 4,
 "nbformat_minor": 1
}
