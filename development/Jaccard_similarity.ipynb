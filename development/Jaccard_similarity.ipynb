{
 "cells": [
  {
   "cell_type": "code",
   "execution_count": 28,
   "metadata": {
    "collapsed": false
   },
   "outputs": [],
   "source": [
    "import sys, os\n",
    "import pandas as pd\n",
    "import numpy as np\n",
    "from sklearn import metrics\n",
    "sys.path.append(os.path.abspath(os.path.join(os.path.dirname(\"Jaccard_similarity\"), '..')))\n",
    "sys.path.append(os.path.abspath(os.path.join(os.path.dirname(\"Jaccard_similarity\"), '..', 'functions/data transforming')))\n",
    "import config_appdev\n",
    "import get_eta"
   ]
  },
  {
   "cell_type": "code",
   "execution_count": 29,
   "metadata": {
    "collapsed": true
   },
   "outputs": [],
   "source": [
    "gold_standard = pd.read_csv('../data/clean_data/gold_standard.csv')"
   ]
  },
  {
   "cell_type": "code",
   "execution_count": 30,
   "metadata": {
    "collapsed": false
   },
   "outputs": [],
   "source": [
    "user_input = [1,1,1,1,1,1,1,1,1,1,1,1,1,1,[4000, 5000],['37.784786', '-122.388954', True]]"
   ]
  },
  {
   "cell_type": "code",
   "execution_count": 31,
   "metadata": {
    "collapsed": false
   },
   "outputs": [
    {
     "name": "stderr",
     "output_type": "stream",
     "text": [
      "/Users/Christine/anaconda/lib/python2.7/site-packages/ipykernel/__main__.py:3: SettingWithCopyWarning: \n",
      "A value is trying to be set on a copy of a slice from a DataFrame\n",
      "\n",
      "See the caveats in the documentation: http://pandas.pydata.org/pandas-docs/stable/indexing.html#indexing-view-versus-copy\n",
      "  app.launch_new_instance()\n",
      "/Users/Christine/anaconda/lib/python2.7/site-packages/ipykernel/__main__.py:4: SettingWithCopyWarning: \n",
      "A value is trying to be set on a copy of a slice from a DataFrame\n",
      "\n",
      "See the caveats in the documentation: http://pandas.pydata.org/pandas-docs/stable/indexing.html#indexing-view-versus-copy\n"
     ]
    }
   ],
   "source": [
    "# binarize avg_rent column\n",
    "rent_range = user_input[-2]\n",
    "gold_standard[\"rent\"][(gold_standard[\"rent\"] < rent_range[0]) | (gold_standard[\"rent\"] > rent_range[1])] = 0\n",
    "gold_standard[\"rent\"][(gold_standard[\"rent\"] >= rent_range[0]) & (gold_standard[\"rent\"] <= rent_range[1])] = 1\n",
    "user_input[-2] = 1"
   ]
  },
  {
   "cell_type": "code",
   "execution_count": 32,
   "metadata": {
    "collapsed": false
   },
   "outputs": [
    {
     "name": "stderr",
     "output_type": "stream",
     "text": [
      "/Users/Christine/anaconda/lib/python2.7/site-packages/ipykernel/__main__.py:14: SettingWithCopyWarning: \n",
      "A value is trying to be set on a copy of a slice from a DataFrame\n",
      "\n",
      "See the caveats in the documentation: http://pandas.pydata.org/pandas-docs/stable/indexing.html#indexing-view-versus-copy\n",
      "/Users/Christine/anaconda/lib/python2.7/site-packages/ipykernel/__main__.py:15: SettingWithCopyWarning: \n",
      "A value is trying to be set on a copy of a slice from a DataFrame\n",
      "\n",
      "See the caveats in the documentation: http://pandas.pydata.org/pandas-docs/stable/indexing.html#indexing-view-versus-copy\n"
     ]
    }
   ],
   "source": [
    "# binarize most frequent destination input/column\n",
    "lat_lon = user_input[-1]\n",
    "if lat_lon[:2] == [0,0]:\n",
    "    gold_standard[\"mindist\"] = 0\n",
    "    user_input[-1]=0\n",
    "else:\n",
    "    API_KEY = config_appdev.API_KEY\n",
    "    orig_coord = ','.join(lat_lon[:2])\n",
    "    eta = get_eta.batch_time(orig_coord,API_KEY,is_driving=lat_lon[2])\n",
    "    eta[\"zip\"] = eta[\"zip\"].astype(np.int64)\n",
    "    gold_standard = gold_standard.merge(eta, on=\"zip\", how=\"left\")\n",
    "    \n",
    "    eta_25p = np.nanpercentile(gold_standard[\"mindist\"], q=25)\n",
    "    gold_standard[\"mindist\"][(gold_standard[\"mindist\"] <= eta_25p)] = 1\n",
    "    gold_standard[\"mindist\"][(gold_standard[\"mindist\"] > eta_25p)] = 0\n",
    "    user_input[-1]=1"
   ]
  },
  {
   "cell_type": "code",
   "execution_count": 26,
   "metadata": {
    "collapsed": false
   },
   "outputs": [],
   "source": [
    "gold_standard = gold_standard.fillna(0)\n",
    "\n",
    "# calculate jaccard similarity\n",
    "for row in range(gold_standard.shape[0]):\n",
    "    similarity = metrics.jaccard_similarity_score(gold_standard.drop([\"similarity\", \"zip\"], axis=1).ix[row,],user_input)\n",
    "    gold_standard.ix[row,\"similarity\"] = similarity"
   ]
  },
  {
   "cell_type": "code",
   "execution_count": 27,
   "metadata": {
    "collapsed": false
   },
   "outputs": [
    {
     "data": {
      "text/plain": [
       "0    94110\n",
       "1    94118\n",
       "2    94111\n",
       "Name: zip, dtype: int64"
      ]
     },
     "execution_count": 27,
     "metadata": {},
     "output_type": "execute_result"
    }
   ],
   "source": [
    "gold_standard.sort_values(\"similarity\", ascending=False).reset_index(drop=True).ix[[0,1,2],\"zip\"]"
   ]
  },
  {
   "cell_type": "code",
   "execution_count": null,
   "metadata": {
    "collapsed": false
   },
   "outputs": [],
   "source": []
  },
  {
   "cell_type": "code",
   "execution_count": null,
   "metadata": {
    "collapsed": false
   },
   "outputs": [],
   "source": []
  },
  {
   "cell_type": "code",
   "execution_count": null,
   "metadata": {
    "collapsed": true
   },
   "outputs": [],
   "source": []
  }
 ],
 "metadata": {
  "anaconda-cloud": {},
  "kernelspec": {
   "display_name": "Python [default]",
   "language": "python",
   "name": "python2"
  },
  "language_info": {
   "codemirror_mode": {
    "name": "ipython",
    "version": 2
   },
   "file_extension": ".py",
   "mimetype": "text/x-python",
   "name": "python",
   "nbconvert_exporter": "python",
   "pygments_lexer": "ipython2",
   "version": "2.7.12"
  }
 },
 "nbformat": 4,
 "nbformat_minor": 1
}
