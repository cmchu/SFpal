{
 "cells": [
  {
   "cell_type": "code",
   "execution_count": 18,
   "metadata": {
    "collapsed": false
   },
   "outputs": [],
   "source": [
    "import sys, os\n",
    "sys.path.append('/Users/linda/SFpal/functions/data transforming/')\n",
    "sys.path.append('/Users/linda/path/')\n",
    "sys.path.append(os.path.abspath(os.path.join(os.path.dirname(\"Google Map - Estimate travel time\"), '..')))\n",
    "sys.path.append(os.path.abspath(os.path.join(os.path.dirname(\"Google Map - Estimate travel time\"), '..', 'functions/data transforming')))\n",
    "import config_appdev\n",
    "import get_eta\n",
    "import simplejson, urllib"
   ]
  },
  {
   "cell_type": "code",
   "execution_count": 7,
   "metadata": {
    "collapsed": false
   },
   "outputs": [
    {
     "name": "stdout",
     "output_type": "stream",
     "text": [
      "estimate time of arrival in second: 1129\n"
     ]
    }
   ],
   "source": [
    "'''\n",
    "transit requests directions via public transit routes (where available).\n",
    "If you set the mode to transit, you can optionally specify either a departure_time \n",
    "or an arrival_time. If neither time is specified, the departure_time defaults to \n",
    "now (that is, the departure time defaults to the current time). You can also optionally \n",
    "include a transit_mode and/or a transit_routing_preference.\n",
    "'''\n",
    "reload(get_eta)\n",
    "API_KEY= config_appdev.API_KEY\n",
    "orig_coord = '37.784786,-122.388954'\n",
    "dest_coord = '37.777037,-122.450658'\n",
    "mode ='driving'\n",
    "print 'estimate time of arrival in second:',get_eta.get_time_sec(orig_coord,dest_coord,API_KEY,mode)"
   ]
  },
  {
   "cell_type": "code",
   "execution_count": 19,
   "metadata": {
    "collapsed": false
   },
   "outputs": [],
   "source": [
    "## In this function\n",
    "get_eta.batch_time(orig_coord,API_KEY,is_driving=False)"
   ]
  },
  {
   "cell_type": "code",
   "execution_count": null,
   "metadata": {
    "collapsed": false
   },
   "outputs": [],
   "source": []
  },
  {
   "cell_type": "code",
   "execution_count": null,
   "metadata": {
    "collapsed": false
   },
   "outputs": [],
   "source": []
  },
  {
   "cell_type": "code",
   "execution_count": null,
   "metadata": {
    "collapsed": true
   },
   "outputs": [],
   "source": []
  }
 ],
 "metadata": {
  "anaconda-cloud": {},
  "kernelspec": {
   "display_name": "Python [conda root]",
   "language": "python",
   "name": "conda-root-py"
  },
  "language_info": {
   "codemirror_mode": {
    "name": "ipython",
    "version": 2
   },
   "file_extension": ".py",
   "mimetype": "text/x-python",
   "name": "python",
   "nbconvert_exporter": "python",
   "pygments_lexer": "ipython2",
   "version": "2.7.12"
  }
 },
 "nbformat": 4,
 "nbformat_minor": 1
}
